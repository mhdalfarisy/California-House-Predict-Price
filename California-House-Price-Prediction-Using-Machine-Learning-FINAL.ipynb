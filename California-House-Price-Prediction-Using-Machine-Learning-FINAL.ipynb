{
 "cells": [
  {
   "cell_type": "markdown",
   "metadata": {},
   "source": [
    "# **California Housing Prices Prediction - Machine Learning**"
   ]
  },
  {
   "cell_type": "markdown",
   "metadata": {},
   "source": [
    "---"
   ]
  },
  {
   "cell_type": "markdown",
   "metadata": {},
   "source": [
    "##### Prepared by : **Muhammad Al-farisy**"
   ]
  },
  {
   "cell_type": "markdown",
   "metadata": {},
   "source": [
    "---"
   ]
  },
  {
   "cell_type": "markdown",
   "metadata": {},
   "source": [
    "### **Contents**\n",
    "\n",
    "1. Business Problem Understanding\n",
    "2. Data Understanding\n",
    "3. Data Preprocessing\n",
    "4. Modeling\n",
    "5. Conclusion\n",
    "6. Recommendation\n",
    "\n",
    "****"
   ]
  },
  {
   "cell_type": "markdown",
   "metadata": {},
   "source": [
    "## **1. Business Problem**\n",
    "#\n",
    "##### **Context**\n",
    "#\n",
    "California merupakan negara bagian yang paling padat penduduknya antara negara bagian amerika dan yang paling banyak dikunjungi wisatawan hingga pembisnis dari negara lain. Selain menjadi tempat wisata yang di idamkan banyak orang untuk dikunjungi, ternyata california juga menjadi tempat impian banyak orang untuk tinggal disana karena memiliki keindahan kota, pantai hingga gaya hidup yang mewah. Dari sudut pandang perusahaan yang bergerak sebagai agent properti properti yang ada di california ini menjadi sebuah peluang besar dan harus di manfaatkan untuk menjalankan bisnisnya. Hal ini didukung juga dengan populasi orang di california terus meningkat setiap tahunnya seperti yang di kutip dari berita media [Strong Towns](https://www.strongtowns.org/journal/2017/8/6/california-housing-crisis) hampir menyentuh angka 2% setiap tahunnya kenaikan populasi orang di california.\n",
    "#\n",
    "Walaupun bisnis properti memiliki peluang besar di california perlu juga menjadi pertimbangan dalam menentukan harga rumah, karena jika harga rumah yang terlalu tinggi akan mengakibatkan rumah tersebut tidak terjual dan ini berdampak pada lambatnya perputaran uang untuk agent properti dan yang paling berisiko adalah agent properti sebagai perantaran akan kehilangan client (pemilik rumah yang ingin menjual rumah). Namun jika harga yang dijual terlalu rendah / dibawah harga yang di inginkan client maka hal ini akan berisiko agent properti kehilangan client (pemilik rumah yang ingin menjual rumah) dan bisa berisiko client pindah ke agent properti lain.\n",
    "#\n",
    "Selama ini agent properti menentukan harga rumah dengan cara membandingkan properti yang ingin dijual dengan properti lain disekitar daerah tersebut dan terkadang harga yang dijual cenderung tinggi dan terkadang harga yang ditawarkan bisa saja rendah. Ketidakstabilan penentuan harga rumah ini sangat berisiko untuk agen properti seperti berita yang dikutip dari media [Strong Towns - News California Housing Crisis 1990 ](https://www.strongtowns.org/journal/2017/8/6/california-housing-crisis) , perubahan harga perumahan di california yang awalnya mengalami kenaikan secara drastis dari 5% hingga 25% pada tahun tahun 1985 sampai tahun 1989 namun mengalami penurunan drastis pada tahun 1990 dengan persentase penurunan dari 25% turun harga rumah -25%. Penurunan perubahan harga rumah ini di akibatkan karena harga perumahan di california pada tahun 1985 sampai tahun 1989 mengalami kenaikan harga yang sangat drastis mengakibatkan pembeli tidak mampu membeli rumah tersebut. Kenaikan harga rumah setinggi itu dikarenakan agent properti mengikuti harga pasar yang sedang naik tanpa mempertimbangkan spesifikasi rumah secara detail, karena kurang tepatnya penentuan harga rumah ini membuat penjualan rumah pada tahun 1990 mengalami penurunan bahkan harga perumahan juga ikut mengalami penurunan."
   ]
  },
  {
   "cell_type": "markdown",
   "metadata": {},
   "source": [
    "**Problem Statement**\n",
    "#\n",
    "Pengaruh dari kurang tepatnya dalam penentuan harga rumah ini berdampak pada penurunan penjualan agent properti yang menyebabkan harga tidak stabil dan customer tidak mampu membeli karena harganya yang naik secara drastis. Hal menjadi tantangan untuk agent properti untuk **menentukan harga rumah yang dijual secara tepat**, karena dalam menentukan harga rumah memiliki banyak faktor yang mendukung penentuan tinggi atau rendahnya harga rumah seperti lokasi rumah, umur rumah,jumlah ruangan,jumlah kamar tidur, keramaian lingkungan rumah, kawasan perumahan elit atau tidak dan jarak rumah dengan lokasi wisata. Tidak cukup hanya dengan membandingkan kondisi rumah yang akan dijual dengan rumah lainnya yang berada disekitar kemudian langsung menentukan harga rumah dengan harga pasar atau langsung menentukan hanya mengikuti harga pasar.\n"
   ]
  },
  {
   "cell_type": "markdown",
   "metadata": {},
   "source": [
    "**Goals**\n",
    "#\n",
    "Berdasarkan permasalahan diatas, agen properti memerlukan **perangkat yang dapat membantu memperediksi harga rumah secara tepat**, perangkat ini disebut dengan machine learning. Machine learning ini dapat agen properti *gunakan ketika client (pihak pemilik rumah) ingin menjual rumahnya dan agen properti sebagai perantara* dapat menggunakan Machine learning ini untuk memprediksi harga rumah yang sesuai berdasarkan faktor-faktor lokasi rumah, umur rumah,jumlah ruangan,jumlah kamar tidur, keramaian lingkungan rumah, kawasan perumahan elit atau tidak dan jarak rumah dengan lokasi wisata dengan menggunakan machine learning."
   ]
  },
  {
   "cell_type": "markdown",
   "metadata": {},
   "source": [
    "**Analytic Approach**\n",
    "\n",
    "Jadi, dalam hal ini yang perlu dilakukan : \n",
    "1. Menganalisis data untuk dapat menemukan pola dari fitur-fitur yang ada, yang membedakan satu perumahan dengan yang lainnya\n",
    "2. Membangun model regresi yang dapat membantu agent properti untuk menyediakan sebuah perangkat prediksi harga rumah\n",
    "3. Menemukan fitur yang memiliki pengaruh besar terhadap target **[median_house_values]** agar model yang dibangun lebih sederhana dan memiliki tingkat akurat yang baik"
   ]
  },
  {
   "cell_type": "markdown",
   "metadata": {},
   "source": [
    "**Metric Evaluation**\n",
    "#\n",
    "Evaluasi matrik pertama yang akan digunakan adalah Mean Absolute Error (MAE). Mean Absolute Error adalah rataan nilai absolut dari error yang dihasilkan oleh model regresi. Jika nilai yang di hasilkan dari evaluasi metrik MAE 0 (nol) artinya akurasi dari hasil prediksi harga rumah mendekati akurat dan jika nilai dari MAE 1 (satu) maka akurasi dari prediksi dari hasil prediksi harga rumah tidak mendekati nilai yang akurat.\n",
    "#\n",
    "Penggunaan evaluasi matrik **MAE untuk melihat berapa rata rata selisih harga akurat dengan harga prediksi, nominal selisih dari MAE pada evaluasi matrik ini dalam bentuk US Dollar**\n",
    "#\n",
    "**FORMULA MAE :**\n",
    "#\n",
    "![gambar MAE](https://miro.medium.com/max/723/1*9BhnZiaHkApC-gQt3rYpMQ.png)\n",
    "#\n",
    "**FORMULA MAPE :**\n",
    "#\n",
    "Evaluasi matrik kedua yang akan digunakan adalah Mean Absolute Percentage Error (MAPE). MAPE adalah melakukan penjumlahan secara keseluruhan dengan terlebih dahulu melakukan pengurangan nilai data aktual dengan data prediksi kemudian membaginya dengan data aktual (diharuskan nilainya absolut) dan dikalikan dengan 100 kemudian dibagi dengan banyaknya data yang ada\n",
    "#\n",
    "![gambar MAPE](https://media.geeksforgeeks.org/wp-content/uploads/20211120204908/mapeformula.png)\n",
    "#\n",
    "Penggunaan MAPE ini untuk melihat berapa persentase rata-rata error antar nilai aktual dengan nilai prediksi\n",
    "#\n",
    "**- Karena MAPE menggunakan persentase, berikut gambaran mengenai kategori berdasarkan persentase MAPE :**\n",
    "#\n",
    "![gambar MAE](https://data03.123doks.com/thumbv2/123dok/001/615/1615759/7.595.186.438.588.676/tabel-interpretasi-nilai-mape.webp)"
   ]
  },
  {
   "cell_type": "markdown",
   "metadata": {},
   "source": [
    "# **2. Data Understanding**\n",
    "#\n",
    "**Information Kolom**\n",
    "\n",
    "| **Nama Kolom** | **Deskripsi Kolom** |\n",
    "| --- | --- |\n",
    "| longitude | Ukuran seberapa jauh ke barat sebuah rumah; nilai yang lebih tinggi lebih jauh ke barat |\n",
    "| latitude | Ukuran seberapa jauh ke utara sebuah rumah; nilai yang lebih tinggi lebih jauh ke utara |\n",
    "| housing_median_age | Usia rata-rata sebuah rumah dalam satu blok (angka yang lebih rendah adalah bangunan yang lebih baru |\n",
    "| total_rooms | Jumlah total ruangan dalam rumah didalam satu blok |\n",
    "| total_bedrooms |Jumlah total kamar tidur dalam satu blok |\n",
    "| population | Jumlah total orang yang tinggal dalam satu blok |\n",
    "| households | Jumlah total rumah tangga / sekelompok orang yang tinggal dalam satu unit rumah di satu blok  |\n",
    "| median_income | Pendapatan rata-rata untuk rumah tangga dalam satu blok rumah (diukur dalam puluhan ribu Dolar AS) |\n",
    "| ocean_proximity | Lokasi rumah dengan laut/laut |\n",
    "| median_house_value | Nilai median rumah untuk rumah tangga dalam satu blok (diukur dalam Dolar AS) |"
   ]
  },
  {
   "cell_type": "markdown",
   "metadata": {},
   "source": [
    "---"
   ]
  },
  {
   "cell_type": "code",
   "execution_count": 1,
   "metadata": {},
   "outputs": [],
   "source": [
    "## Import library yang dibutuhkan untuk eksplorasi dataset\n",
    "import pandas as pd \n",
    "import numpy as np\n",
    "import matplotlib.pyplot as plt\n",
    "import seaborn as sns\n",
    "\n",
    "import warnings\n",
    "warnings.filterwarnings('ignore')"
   ]
  },
  {
   "cell_type": "markdown",
   "metadata": {},
   "source": [
    "**Membaca data :**"
   ]
  },
  {
   "cell_type": "code",
   "execution_count": 2,
   "metadata": {},
   "outputs": [
    {
     "data": {
      "text/html": [
       "<div>\n",
       "<style scoped>\n",
       "    .dataframe tbody tr th:only-of-type {\n",
       "        vertical-align: middle;\n",
       "    }\n",
       "\n",
       "    .dataframe tbody tr th {\n",
       "        vertical-align: top;\n",
       "    }\n",
       "\n",
       "    .dataframe thead th {\n",
       "        text-align: right;\n",
       "    }\n",
       "</style>\n",
       "<table border=\"1\" class=\"dataframe\">\n",
       "  <thead>\n",
       "    <tr style=\"text-align: right;\">\n",
       "      <th></th>\n",
       "      <th>longitude</th>\n",
       "      <th>latitude</th>\n",
       "      <th>housing_median_age</th>\n",
       "      <th>total_rooms</th>\n",
       "      <th>total_bedrooms</th>\n",
       "      <th>population</th>\n",
       "      <th>households</th>\n",
       "      <th>median_income</th>\n",
       "      <th>ocean_proximity</th>\n",
       "      <th>median_house_value</th>\n",
       "    </tr>\n",
       "  </thead>\n",
       "  <tbody>\n",
       "    <tr>\n",
       "      <th>0</th>\n",
       "      <td>-119.79</td>\n",
       "      <td>36.73</td>\n",
       "      <td>52.0</td>\n",
       "      <td>112.0</td>\n",
       "      <td>28.0</td>\n",
       "      <td>193.0</td>\n",
       "      <td>40.0</td>\n",
       "      <td>1.9750</td>\n",
       "      <td>INLAND</td>\n",
       "      <td>47500.0</td>\n",
       "    </tr>\n",
       "    <tr>\n",
       "      <th>1</th>\n",
       "      <td>-122.21</td>\n",
       "      <td>37.77</td>\n",
       "      <td>43.0</td>\n",
       "      <td>1017.0</td>\n",
       "      <td>328.0</td>\n",
       "      <td>836.0</td>\n",
       "      <td>277.0</td>\n",
       "      <td>2.2604</td>\n",
       "      <td>NEAR BAY</td>\n",
       "      <td>100000.0</td>\n",
       "    </tr>\n",
       "    <tr>\n",
       "      <th>2</th>\n",
       "      <td>-118.04</td>\n",
       "      <td>33.87</td>\n",
       "      <td>17.0</td>\n",
       "      <td>2358.0</td>\n",
       "      <td>396.0</td>\n",
       "      <td>1387.0</td>\n",
       "      <td>364.0</td>\n",
       "      <td>6.2990</td>\n",
       "      <td>&lt;1H OCEAN</td>\n",
       "      <td>285800.0</td>\n",
       "    </tr>\n",
       "    <tr>\n",
       "      <th>3</th>\n",
       "      <td>-118.28</td>\n",
       "      <td>34.06</td>\n",
       "      <td>17.0</td>\n",
       "      <td>2518.0</td>\n",
       "      <td>1196.0</td>\n",
       "      <td>3051.0</td>\n",
       "      <td>1000.0</td>\n",
       "      <td>1.7199</td>\n",
       "      <td>&lt;1H OCEAN</td>\n",
       "      <td>175000.0</td>\n",
       "    </tr>\n",
       "    <tr>\n",
       "      <th>4</th>\n",
       "      <td>-119.81</td>\n",
       "      <td>36.73</td>\n",
       "      <td>50.0</td>\n",
       "      <td>772.0</td>\n",
       "      <td>194.0</td>\n",
       "      <td>606.0</td>\n",
       "      <td>167.0</td>\n",
       "      <td>2.2206</td>\n",
       "      <td>INLAND</td>\n",
       "      <td>59200.0</td>\n",
       "    </tr>\n",
       "  </tbody>\n",
       "</table>\n",
       "</div>"
      ],
      "text/plain": [
       "   longitude  latitude  housing_median_age  total_rooms  total_bedrooms  \\\n",
       "0    -119.79     36.73                52.0        112.0            28.0   \n",
       "1    -122.21     37.77                43.0       1017.0           328.0   \n",
       "2    -118.04     33.87                17.0       2358.0           396.0   \n",
       "3    -118.28     34.06                17.0       2518.0          1196.0   \n",
       "4    -119.81     36.73                50.0        772.0           194.0   \n",
       "\n",
       "   population  households  median_income ocean_proximity  median_house_value  \n",
       "0       193.0        40.0         1.9750          INLAND             47500.0  \n",
       "1       836.0       277.0         2.2604        NEAR BAY            100000.0  \n",
       "2      1387.0       364.0         6.2990       <1H OCEAN            285800.0  \n",
       "3      3051.0      1000.0         1.7199       <1H OCEAN            175000.0  \n",
       "4       606.0       167.0         2.2206          INLAND             59200.0  "
      ]
     },
     "execution_count": 2,
     "metadata": {},
     "output_type": "execute_result"
    }
   ],
   "source": [
    "## Membaca dataset csv dan menampilkan 5 data teratas\n",
    "df = pd.read_csv('data_california_house.csv')\n",
    "df.head()"
   ]
  },
  {
   "cell_type": "markdown",
   "metadata": {},
   "source": [
    "# **3. Data Preprocessing**\n",
    "#\n",
    "#\n",
    "- Mengecek informasi kolom\n",
    "- Mengecek jumlah baris dan kolom\n",
    "- Mengecek data duplikat\n",
    "- Mengecek missing values\n",
    "- Mengecek Korelasi data\n",
    "- Mengecek distribusi data\n",
    "- Mengecek outlier\n",
    "---"
   ]
  },
  {
   "cell_type": "markdown",
   "metadata": {},
   "source": [
    "**Mengecek Informasi Kolom :**"
   ]
  },
  {
   "cell_type": "code",
   "execution_count": 3,
   "metadata": {},
   "outputs": [
    {
     "name": "stdout",
     "output_type": "stream",
     "text": [
      "<class 'pandas.core.frame.DataFrame'>\n",
      "RangeIndex: 14448 entries, 0 to 14447\n",
      "Data columns (total 10 columns):\n",
      " #   Column              Non-Null Count  Dtype  \n",
      "---  ------              --------------  -----  \n",
      " 0   longitude           14448 non-null  float64\n",
      " 1   latitude            14448 non-null  float64\n",
      " 2   housing_median_age  14448 non-null  float64\n",
      " 3   total_rooms         14448 non-null  float64\n",
      " 4   total_bedrooms      14311 non-null  float64\n",
      " 5   population          14448 non-null  float64\n",
      " 6   households          14448 non-null  float64\n",
      " 7   median_income       14448 non-null  float64\n",
      " 8   ocean_proximity     14448 non-null  object \n",
      " 9   median_house_value  14448 non-null  float64\n",
      "dtypes: float64(9), object(1)\n",
      "memory usage: 1.1+ MB\n"
     ]
    }
   ],
   "source": [
    "## Melakukan pengecekan tipe data\n",
    "df.info()"
   ]
  },
  {
   "cell_type": "markdown",
   "metadata": {},
   "source": [
    "Terdapat 2 tipe data yaitu **Tipe data float berisikan kolom** : *longtitude,latitude,housing_median_age,total_rooms,total_bedrooms,populations,households,median_income,median_house_values* sedangkan **Tipe data Object berisikan kolom :** *ocean_proximity*. Namun untuk tipe kolom housing_median_age,total_rooms,total_bedrooms,population,households akan diubah menjadi tipe data integer dengan alasan untuk nama nama kolom kolom housing_median_age,total_rooms,total_bedrooms,population,households ini termasuk dalam bilangan bulat."
   ]
  },
  {
   "cell_type": "markdown",
   "metadata": {},
   "source": [
    "**Mengecek total kolom dan baris :**"
   ]
  },
  {
   "cell_type": "code",
   "execution_count": 4,
   "metadata": {},
   "outputs": [
    {
     "data": {
      "text/plain": [
       "(14448, 10)"
      ]
     },
     "execution_count": 4,
     "metadata": {},
     "output_type": "execute_result"
    }
   ],
   "source": [
    "## Mengecek total kolom dan total baris\n",
    "df.shape"
   ]
  },
  {
   "cell_type": "markdown",
   "metadata": {},
   "source": [
    "- Terdapat 14448 baris dan ada 10 kolom data, namun di jika dilihat dari informasi sebelumnya pada df.info() nomor 4. total_bedrooms terdapat total barisnya 14.311 berbeda dari jumlah baris lain 14.448, selisih tersebut adalah data missing values 137 baris."
   ]
  },
  {
   "cell_type": "markdown",
   "metadata": {},
   "source": [
    "**Mengecek total data duplikat :**"
   ]
  },
  {
   "cell_type": "code",
   "execution_count": 5,
   "metadata": {},
   "outputs": [
    {
     "data": {
      "text/plain": [
       "0"
      ]
     },
     "execution_count": 5,
     "metadata": {},
     "output_type": "execute_result"
    }
   ],
   "source": [
    "## Mengecek data duplikasi\n",
    "df.duplicated().sum()"
   ]
  },
  {
   "cell_type": "markdown",
   "metadata": {},
   "source": [
    "Dari hasil pengecekan duplikat, dapat dilihat hasilnya adalah 0 yang artinya tidak terdapat data duplikat."
   ]
  },
  {
   "cell_type": "markdown",
   "metadata": {},
   "source": [
    "**Mengecek Missing Values :**"
   ]
  },
  {
   "cell_type": "markdown",
   "metadata": {},
   "source": [
    "- Visualisasi data untuk mengecek missing values"
   ]
  },
  {
   "cell_type": "code",
   "execution_count": 6,
   "metadata": {},
   "outputs": [
    {
     "data": {
      "image/png": "[encoded data removed]",
      "text/plain": [
       "<Figure size 1080x720 with 2 Axes>"
      ]
     },
     "metadata": {
      "needs_background": "light"
     },
     "output_type": "display_data"
    }
   ],
   "source": [
    "## Visualisasi data yang memiliki missing values\n",
    "plt.figure(figsize=(15,10))\n",
    "sns.heatmap(df.isna(),cbar='YlOrRd_r')\n",
    "plt.title('Heatmap Missing Values')\n",
    "plt.show()"
   ]
  },
  {
   "cell_type": "markdown",
   "metadata": {},
   "source": [
    "Dari visualisasi di atas terdapat missing values pada kolom total_bedrooms, perlu dilakukan perhitungan berapa jumlah baris yang memiliki missing values dari kolom total_bedrooms."
   ]
  },
  {
   "cell_type": "markdown",
   "metadata": {},
   "source": [
    "- Perhitungan jumlah missing values"
   ]
  },
  {
   "cell_type": "code",
   "execution_count": 7,
   "metadata": {},
   "outputs": [
    {
     "data": {
      "text/plain": [
       "longitude               0\n",
       "latitude                0\n",
       "housing_median_age      0\n",
       "total_rooms             0\n",
       "total_bedrooms        137\n",
       "population              0\n",
       "households              0\n",
       "median_income           0\n",
       "ocean_proximity         0\n",
       "median_house_value      0\n",
       "dtype: int64"
      ]
     },
     "execution_count": 7,
     "metadata": {},
     "output_type": "execute_result"
    }
   ],
   "source": [
    "## Menghitung jumlah missing values\n",
    "df.isna().sum()"
   ]
  },
  {
   "cell_type": "markdown",
   "metadata": {},
   "source": [
    "- Persentase jumlah missing values dari kolom bedrooms"
   ]
  },
  {
   "cell_type": "code",
   "execution_count": 8,
   "metadata": {},
   "outputs": [
    {
     "name": "stdout",
     "output_type": "stream",
     "text": [
      "Total persentase data awal kolom total_bedrooms (termasuk missing values) \t : 100.0 % \n",
      "Total persentase missing values kolom total_bedrooms \t\t\t\t : 0.948 %\n",
      "Total persentase kolom total_bedrooms yang tidak memiliki missing values \t : 99.052 %\n"
     ]
    }
   ],
   "source": [
    "## Jumlah persentase missing values pada kolom total_bedrooms\n",
    "total_baris = round(df['total_bedrooms'].notnull().sum() * 100 / len(df),3)\n",
    "total_baris_missing_values = round(df['total_bedrooms'].isnull().sum() * 100 / len(df['total_bedrooms']),3)\n",
    "print(f'Total persentase data awal kolom total_bedrooms (termasuk missing values) \\t : {total_baris_missing_values+total_baris} % ')\n",
    "print(f'Total persentase missing values kolom total_bedrooms \\t\\t\\t\\t : {total_baris_missing_values} %')\n",
    "print(f'Total persentase kolom total_bedrooms yang tidak memiliki missing values \\t : {total_baris} %')\n"
   ]
  },
  {
   "cell_type": "markdown",
   "metadata": {},
   "source": [
    "Dari total baris 14.448 **terdapat missing values sebanyak 137 baris atau setara 0.948 %**, jumlah missing values ini **tidak mencapai 1 persen dari keseluruhan baris**. Jika missing values di hapus maka **sisa total baris 14.331 atau setara 99.052 %**. Dalam hal ini missing values akan di hapus karena memiliki jumlah sedikit dan data aktual yang hilang juga sedikit sehingga tidak berpengaruh signifikan pada model machine learning."
   ]
  },
  {
   "cell_type": "code",
   "execution_count": 9,
   "metadata": {},
   "outputs": [],
   "source": [
    "# Menghapus baris yang memiliki missing values\n",
    "df.dropna(inplace=True)"
   ]
  },
  {
   "cell_type": "code",
   "execution_count": 10,
   "metadata": {},
   "outputs": [
    {
     "data": {
      "image/png": "[encoded data removed]",
      "text/plain": [
       "<Figure size 1080x720 with 2 Axes>"
      ]
     },
     "metadata": {
      "needs_background": "light"
     },
     "output_type": "display_data"
    }
   ],
   "source": [
    "# Missing values yang sudah di hapus akan di cek lagi untuk memastikan bahwa missing values sudah benar benar kosong\n",
    "plt.figure(figsize=(15,10))\n",
    "sns.heatmap(df.isna(),cbar='YlOrRd_r')\n",
    "plt.title('Heatmap Missing Values')\n",
    "plt.show()"
   ]
  },
  {
   "cell_type": "markdown",
   "metadata": {},
   "source": [
    "Jika di lihat dari visualisasi di atas sudah tidak ada missing values, artinya missing values sudah di hapus semua."
   ]
  },
  {
   "cell_type": "markdown",
   "metadata": {},
   "source": [
    "**Perbaikan tipe data**"
   ]
  },
  {
   "cell_type": "markdown",
   "metadata": {},
   "source": [
    "- Tipe data yang akan di ubah adalah :\n",
    "    - total_rooms\n",
    "    - total_bedrooms\n",
    "    - population\n",
    "    - households\n",
    "  #\n",
    "- **Alasan mengganti tipe** data dari **float** ke **int** karena total_rooms,total_bedrooms,population,households berdasarkan domain knowladge masuk dalam jenis angka dikret atau angka satuan yang tidak memiliki pecahan decimal. \n",
    "  #\n",
    "  - Contoh total_rooms : jumlah total_rooms ini kurang tepat jika di katakan total ada ruangan 1,2 ruangan. Dalam menghitung jumlah ruangan kurang tepat jika menggunakan pecahan (jenis angka continous) dan kurang logis sehingga lebih tepat menggunakan tipe data int agar datanya menjadi jenis diskret (satuan yang tidak memiliki pecahan decimal).\n",
    "  #\n",
    "  - Contoh total_bedrooms : jumlah total_bedrooms juga kurang tepat jika menggunakan tipe data float karena jenis angkanya akan menjadi jenis angka continous, akan lebih tepat jika menggunakan tipe data int agar jenis angkanya menjadi jenis angka diskret (angka satuan tanpa decimal). Karena kurang tepat jika total ruangan dikatakan 1,5 jumlah ruangan karena ini menghitung jumlah satuan bukan jumlah meter. Sehingga akan lebih tepat ialah jumlah ruangan menggunakan jenis angka diskret misalnya jumlah ruangan ada 1 atau jumlah ruangan ada 5 (tidak menggunakan pecahan decimal). \n",
    "  #\n",
    "  - Contoh populasi : jumlah populasi juga kurang tepat jika menggunakan tipe data float karena ini angkanya akan berubah ke continous, akan lebih tepat jika menggunakan tipe data int agar angkanya berubah menjadi satuan atau jenis angka diskret. Karena pada populasi itu menggambarkan jumlah manusia, manusia itu tidak dapat dibagi menjadi setengah karena kalau menghitung manusia itu masuknya jenis angka satuan yang tidak memiliki pecahan decimal.\n",
    "  #\n",
    "  - Contoh households : jumlah households ini merupakan jumlah orang dalam rumah yang berada dalam 1 blok, sehingga kurang tepat jika menggunakan tipe data float dan akan lebih tepat  jika menggunakan tipe data int agar angkanya menjadi angka diskret. Jenis angka diskret lebih tepat digunakan untuk menghitung jumlah manusia karena manusia dihitung dalam satuan yang tidak memiliki pecahan decimal."
   ]
  },
  {
   "cell_type": "code",
   "execution_count": 11,
   "metadata": {},
   "outputs": [],
   "source": [
    "# Mengubah tipe data kolom total_rooms\n",
    "df['total_rooms'] = df['total_rooms'].astype('int64')\n",
    "\n",
    "# Mengubah tipe data kolom total_bedrooms\n",
    "df['total_bedrooms'] = df['total_bedrooms'].astype('int64')\n",
    "\n",
    "# Mengubah tipe data kolom population\n",
    "df['population'] = df['population'].astype('int64')\n",
    "\n",
    "# Mengubah tipe data kolom households\n",
    "df['households'] = df['households'].astype('int64')\n"
   ]
  },
  {
   "cell_type": "code",
   "execution_count": 12,
   "metadata": {},
   "outputs": [
    {
     "data": {
      "image/png": "[encoded data removed]",
      "text/plain": [
       "<Figure size 1440x1080 with 20 Axes>"
      ]
     },
     "metadata": {
      "needs_background": "light"
     },
     "output_type": "display_data"
    }
   ],
   "source": [
    "# Plot boxplot untuk mengecek outliers\n",
    "df.plot(kind='box', figsize=(20,15), subplots=True, layout=(5,4))\n",
    "plt.show()"
   ]
  },
  {
   "cell_type": "code",
   "execution_count": 13,
   "metadata": {},
   "outputs": [],
   "source": [
    "# Membuat fungsi untuk mengecek outliers\n",
    "def check_outliers(df,col):\n",
    "    Q1=df[col].describe()['25%']\n",
    "    Q3=df[col].describe()['75%']\n",
    "    IQR=Q3-Q1\n",
    "    Upper_fence=Q3+(1.5*IQR)\n",
    "    Lower_fence=Q1-(1.5*IQR)\n",
    "    df_outliers=df[(df[col]<Lower_fence) | (df[col]>Upper_fence)]\n",
    "    if len(df_outliers)==0:\n",
    "        return 'Tidak Ada Outliers'\n",
    "    else:\n",
    "        return df_outliers"
   ]
  },
  {
   "cell_type": "code",
   "execution_count": 14,
   "metadata": {},
   "outputs": [
    {
     "data": {
      "image/png": "[encoded data removed]",
      "text/plain": [
       "<Figure size 432x288 with 1 Axes>"
      ]
     },
     "metadata": {
      "needs_background": "light"
     },
     "output_type": "display_data"
    },
    {
     "data": {
      "text/plain": [
       "'Tidak Ada Outliers'"
      ]
     },
     "execution_count": 14,
     "metadata": {},
     "output_type": "execute_result"
    }
   ],
   "source": [
    "## Mengecek outliers pada fitur housing_median_age\n",
    "sns.boxplot(df['housing_median_age'])\n",
    "plt.title('Boxplot Outlier housing_median_age')\n",
    "plt.show()\n",
    "outliers_housing_median_age=check_outliers(df,'housing_median_age')\n",
    "outliers_housing_median_age"
   ]
  },
  {
   "cell_type": "code",
   "execution_count": 15,
   "metadata": {},
   "outputs": [
    {
     "data": {
      "text/plain": [
       "52.0    891\n",
       "38.0    272\n",
       "42.0    266\n",
       "44.0    255\n",
       "39.0    244\n",
       "43.0    243\n",
       "41.0    219\n",
       "40.0    210\n",
       "45.0    183\n",
       "46.0    176\n",
       "47.0    130\n",
       "48.0    109\n",
       "50.0     99\n",
       "49.0     92\n",
       "51.0     36\n",
       "Name: housing_median_age, dtype: int64"
      ]
     },
     "execution_count": 15,
     "metadata": {},
     "output_type": "execute_result"
    }
   ],
   "source": [
    "## Mengecek perumahan di atas nilai Q3 atau di atas 37 tahun, untuk mengetahui berapa jarak selisih antar nilainya.\n",
    "df[df['housing_median_age']>37]['housing_median_age'].value_counts()"
   ]
  },
  {
   "cell_type": "code",
   "execution_count": 16,
   "metadata": {},
   "outputs": [],
   "source": [
    "# Menghapus outlier housing_median_age\n",
    "df = df[(df['housing_median_age'] < 51)]"
   ]
  },
  {
   "cell_type": "markdown",
   "metadata": {},
   "source": [
    "Jika dilihat dari umur perumahan diatas, outlier terbanyak ada pada umur rumah 52 tahun karena selisih antar umur 52 dan 51 tahun dengan umur perumahan dibawahnya mengalami selisih yang sangat jauh. Disini saya membatasi umur rumah maximal yang dapat digunakan dalam model adalah 50 tahun. Selain karena outlier, yang menjadi pertimbangan berikutnya adalah rumah yang diatas 50 tahun berdiri sangat tua sudah dan perlu dilakukan renovasi rumah seperti atap rumah hanya bertahan 20-30 tahun seperti yang dikutip dari [*web onethehouse*](https://onthehouse.com/how-old-is-too-old-to-renovate/), selain itu umur perumahan rata-rata dari segi bagunannya hanya bertahan sampai dengan 50-60, jika sudah masuk dalam umur ini maka sudah saatnya dilakukan pengecekan untuk renovasi seperti yang dikutip dari [*website makaaniq*](https://www.makaan.com/iq/buy-sell-move-property/what-is-the-average-age-of-a-house)."
   ]
  },
  {
   "cell_type": "code",
   "execution_count": 17,
   "metadata": {},
   "outputs": [
    {
     "data": {
      "image/png": "[encoded data removed]",
      "text/plain": [
       "<Figure size 432x288 with 1 Axes>"
      ]
     },
     "metadata": {
      "needs_background": "light"
     },
     "output_type": "display_data"
    },
    {
     "data": {
      "text/html": [
       "<div>\n",
       "<style scoped>\n",
       "    .dataframe tbody tr th:only-of-type {\n",
       "        vertical-align: middle;\n",
       "    }\n",
       "\n",
       "    .dataframe tbody tr th {\n",
       "        vertical-align: top;\n",
       "    }\n",
       "\n",
       "    .dataframe thead th {\n",
       "        text-align: right;\n",
       "    }\n",
       "</style>\n",
       "<table border=\"1\" class=\"dataframe\">\n",
       "  <thead>\n",
       "    <tr style=\"text-align: right;\">\n",
       "      <th></th>\n",
       "      <th>longitude</th>\n",
       "      <th>latitude</th>\n",
       "      <th>housing_median_age</th>\n",
       "      <th>total_rooms</th>\n",
       "      <th>total_bedrooms</th>\n",
       "      <th>population</th>\n",
       "      <th>households</th>\n",
       "      <th>median_income</th>\n",
       "      <th>ocean_proximity</th>\n",
       "      <th>median_house_value</th>\n",
       "    </tr>\n",
       "  </thead>\n",
       "  <tbody>\n",
       "    <tr>\n",
       "      <th>5</th>\n",
       "      <td>-117.79</td>\n",
       "      <td>33.80</td>\n",
       "      <td>11.0</td>\n",
       "      <td>10535</td>\n",
       "      <td>1620</td>\n",
       "      <td>4409</td>\n",
       "      <td>1622</td>\n",
       "      <td>6.6700</td>\n",
       "      <td>&lt;1H OCEAN</td>\n",
       "      <td>283200.0</td>\n",
       "    </tr>\n",
       "    <tr>\n",
       "      <th>9</th>\n",
       "      <td>-122.27</td>\n",
       "      <td>37.97</td>\n",
       "      <td>10.0</td>\n",
       "      <td>15259</td>\n",
       "      <td>2275</td>\n",
       "      <td>7266</td>\n",
       "      <td>2338</td>\n",
       "      <td>6.0666</td>\n",
       "      <td>NEAR BAY</td>\n",
       "      <td>272400.0</td>\n",
       "    </tr>\n",
       "    <tr>\n",
       "      <th>13</th>\n",
       "      <td>-117.50</td>\n",
       "      <td>33.96</td>\n",
       "      <td>12.0</td>\n",
       "      <td>7923</td>\n",
       "      <td>1470</td>\n",
       "      <td>4861</td>\n",
       "      <td>1385</td>\n",
       "      <td>4.2985</td>\n",
       "      <td>INLAND</td>\n",
       "      <td>139200.0</td>\n",
       "    </tr>\n",
       "    <tr>\n",
       "      <th>22</th>\n",
       "      <td>-121.53</td>\n",
       "      <td>38.61</td>\n",
       "      <td>5.0</td>\n",
       "      <td>8149</td>\n",
       "      <td>1913</td>\n",
       "      <td>2933</td>\n",
       "      <td>1616</td>\n",
       "      <td>3.6788</td>\n",
       "      <td>INLAND</td>\n",
       "      <td>178800.0</td>\n",
       "    </tr>\n",
       "    <tr>\n",
       "      <th>45</th>\n",
       "      <td>-117.59</td>\n",
       "      <td>33.91</td>\n",
       "      <td>7.0</td>\n",
       "      <td>10223</td>\n",
       "      <td>1491</td>\n",
       "      <td>5205</td>\n",
       "      <td>1509</td>\n",
       "      <td>5.4872</td>\n",
       "      <td>INLAND</td>\n",
       "      <td>203400.0</td>\n",
       "    </tr>\n",
       "  </tbody>\n",
       "</table>\n",
       "</div>"
      ],
      "text/plain": [
       "    longitude  latitude  housing_median_age  total_rooms  total_bedrooms  \\\n",
       "5     -117.79     33.80                11.0        10535            1620   \n",
       "9     -122.27     37.97                10.0        15259            2275   \n",
       "13    -117.50     33.96                12.0         7923            1470   \n",
       "22    -121.53     38.61                 5.0         8149            1913   \n",
       "45    -117.59     33.91                 7.0        10223            1491   \n",
       "\n",
       "    population  households  median_income ocean_proximity  median_house_value  \n",
       "5         4409        1622         6.6700       <1H OCEAN            283200.0  \n",
       "9         7266        2338         6.0666        NEAR BAY            272400.0  \n",
       "13        4861        1385         4.2985          INLAND            139200.0  \n",
       "22        2933        1616         3.6788          INLAND            178800.0  \n",
       "45        5205        1509         5.4872          INLAND            203400.0  "
      ]
     },
     "execution_count": 17,
     "metadata": {},
     "output_type": "execute_result"
    }
   ],
   "source": [
    "## Mengecek outliers pada fitur total_rooms\n",
    "sns.boxplot(df['total_rooms'])\n",
    "plt.title('Boxplot Outlier total_rooms')\n",
    "plt.show()\n",
    "\n",
    "## Codingan untuk menampilkan data frame yang miliki outlier untuk kolom total_rooms\n",
    "outliers_total_rooms=check_outliers(df,'total_rooms')\n",
    "outliers_total_rooms.head()"
   ]
  },
  {
   "cell_type": "code",
   "execution_count": 18,
   "metadata": {},
   "outputs": [
    {
     "name": "stdout",
     "output_type": "stream",
     "text": [
      "Total outlier pada kolom total_rooms : 849\n",
      "Total data awal: 13384\n",
      "Persentase total outlier dari total data (%): 6.343395098625224\n"
     ]
    }
   ],
   "source": [
    "## Mencetak informasi total outlier dari kolom total_rooms\n",
    "print(f'Total outlier pada kolom total_rooms : {outliers_total_rooms.shape[0]}')\n",
    "print(f'Total data awal: {df.shape[0]}')\n",
    "print(f'Persentase total outlier dari total data (%): {(outliers_total_rooms.shape[0]/df.shape[0])*100}')"
   ]
  },
  {
   "cell_type": "markdown",
   "metadata": {},
   "source": [
    "Dari informasi kolom **total_rooms** terdapat outlier sebanyak 6,3 % atau setara 849 data namun outlier ini tidak dihapus karena setiap rumah dalam satu blok perumahan wajar memiliki total ruangan yang banyak dan jumlahnya berbeda beda. Selain itu nilai sebuah rumah secara kasar diperkirakan dalam hitungan meter persegi.Katakanlah rumah seluas 2.000 meter persegi dijual seharga $ 200.000. Harga per meter persegi adalah $100.\n",
    "#\n",
    "Selain luas persegi, ruang rumah yang dapat digunakan penting saat menentukan nilainya. Garasi, loteng, dan ruang bawah tanah yang belum selesai umumnya tidak dihitung dalam ukuran persegi yang dapat digunakan. Jadi, jika Anda memiliki rumah seluas 2.000 meter persegi dengan garasi seluas 600 kaki persegi, itu hanya ruang yang layak huni seluas 1.400 kaki persegi."
   ]
  },
  {
   "cell_type": "code",
   "execution_count": 19,
   "metadata": {},
   "outputs": [
    {
     "data": {
      "image/png": "[encoded data removed]",
      "text/plain": [
       "<Figure size 432x288 with 1 Axes>"
      ]
     },
     "metadata": {
      "needs_background": "light"
     },
     "output_type": "display_data"
    },
    {
     "data": {
      "text/html": [
       "<div>\n",
       "<style scoped>\n",
       "    .dataframe tbody tr th:only-of-type {\n",
       "        vertical-align: middle;\n",
       "    }\n",
       "\n",
       "    .dataframe tbody tr th {\n",
       "        vertical-align: top;\n",
       "    }\n",
       "\n",
       "    .dataframe thead th {\n",
       "        text-align: right;\n",
       "    }\n",
       "</style>\n",
       "<table border=\"1\" class=\"dataframe\">\n",
       "  <thead>\n",
       "    <tr style=\"text-align: right;\">\n",
       "      <th></th>\n",
       "      <th>longitude</th>\n",
       "      <th>latitude</th>\n",
       "      <th>housing_median_age</th>\n",
       "      <th>total_rooms</th>\n",
       "      <th>total_bedrooms</th>\n",
       "      <th>population</th>\n",
       "      <th>households</th>\n",
       "      <th>median_income</th>\n",
       "      <th>ocean_proximity</th>\n",
       "      <th>median_house_value</th>\n",
       "    </tr>\n",
       "  </thead>\n",
       "  <tbody>\n",
       "    <tr>\n",
       "      <th>5</th>\n",
       "      <td>-117.79</td>\n",
       "      <td>33.80</td>\n",
       "      <td>11.0</td>\n",
       "      <td>10535</td>\n",
       "      <td>1620</td>\n",
       "      <td>4409</td>\n",
       "      <td>1622</td>\n",
       "      <td>6.6700</td>\n",
       "      <td>&lt;1H OCEAN</td>\n",
       "      <td>283200.0</td>\n",
       "    </tr>\n",
       "    <tr>\n",
       "      <th>9</th>\n",
       "      <td>-122.27</td>\n",
       "      <td>37.97</td>\n",
       "      <td>10.0</td>\n",
       "      <td>15259</td>\n",
       "      <td>2275</td>\n",
       "      <td>7266</td>\n",
       "      <td>2338</td>\n",
       "      <td>6.0666</td>\n",
       "      <td>NEAR BAY</td>\n",
       "      <td>272400.0</td>\n",
       "    </tr>\n",
       "    <tr>\n",
       "      <th>10</th>\n",
       "      <td>-121.94</td>\n",
       "      <td>37.28</td>\n",
       "      <td>18.0</td>\n",
       "      <td>4356</td>\n",
       "      <td>1334</td>\n",
       "      <td>1968</td>\n",
       "      <td>1245</td>\n",
       "      <td>3.6294</td>\n",
       "      <td>&lt;1H OCEAN</td>\n",
       "      <td>240000.0</td>\n",
       "    </tr>\n",
       "    <tr>\n",
       "      <th>13</th>\n",
       "      <td>-117.50</td>\n",
       "      <td>33.96</td>\n",
       "      <td>12.0</td>\n",
       "      <td>7923</td>\n",
       "      <td>1470</td>\n",
       "      <td>4861</td>\n",
       "      <td>1385</td>\n",
       "      <td>4.2985</td>\n",
       "      <td>INLAND</td>\n",
       "      <td>139200.0</td>\n",
       "    </tr>\n",
       "    <tr>\n",
       "      <th>22</th>\n",
       "      <td>-121.53</td>\n",
       "      <td>38.61</td>\n",
       "      <td>5.0</td>\n",
       "      <td>8149</td>\n",
       "      <td>1913</td>\n",
       "      <td>2933</td>\n",
       "      <td>1616</td>\n",
       "      <td>3.6788</td>\n",
       "      <td>INLAND</td>\n",
       "      <td>178800.0</td>\n",
       "    </tr>\n",
       "  </tbody>\n",
       "</table>\n",
       "</div>"
      ],
      "text/plain": [
       "    longitude  latitude  housing_median_age  total_rooms  total_bedrooms  \\\n",
       "5     -117.79     33.80                11.0        10535            1620   \n",
       "9     -122.27     37.97                10.0        15259            2275   \n",
       "10    -121.94     37.28                18.0         4356            1334   \n",
       "13    -117.50     33.96                12.0         7923            1470   \n",
       "22    -121.53     38.61                 5.0         8149            1913   \n",
       "\n",
       "    population  households  median_income ocean_proximity  median_house_value  \n",
       "5         4409        1622         6.6700       <1H OCEAN            283200.0  \n",
       "9         7266        2338         6.0666        NEAR BAY            272400.0  \n",
       "10        1968        1245         3.6294       <1H OCEAN            240000.0  \n",
       "13        4861        1385         4.2985          INLAND            139200.0  \n",
       "22        2933        1616         3.6788          INLAND            178800.0  "
      ]
     },
     "execution_count": 19,
     "metadata": {},
     "output_type": "execute_result"
    }
   ],
   "source": [
    "## Mengecek outliers pada fitur total_bedrooms\n",
    "sns.boxplot(df['total_bedrooms'])\n",
    "plt.title('Boxplot Outlier total_bedrooms')\n",
    "plt.show()\n",
    "\n",
    "## Codingan untuk menampilkan data frame yang miliki outlier untuk kolom total_bedrooms\n",
    "outliers_total_bedrooms=check_outliers(df,'total_bedrooms')\n",
    "outliers_total_bedrooms.head()"
   ]
  },
  {
   "cell_type": "code",
   "execution_count": 20,
   "metadata": {},
   "outputs": [
    {
     "name": "stdout",
     "output_type": "stream",
     "text": [
      "Total outlier pada kolom total_bedrooms : 820\n",
      "Total data awal: 13384\n",
      "Persentase total outlier dari total data (%): 6.126718469814704\n"
     ]
    }
   ],
   "source": [
    "## Mencetak informasi total outlier dari kolom total_bedrooms\n",
    "print(f'Total outlier pada kolom total_bedrooms : {outliers_total_bedrooms.shape[0]}')\n",
    "print(f'Total data awal: {df.shape[0]}')\n",
    "print(f'Persentase total outlier dari total data (%): {(outliers_total_bedrooms.shape[0]/df.shape[0])*100}')"
   ]
  },
  {
   "cell_type": "markdown",
   "metadata": {},
   "source": [
    "Dari informasi kolom **total_bedrooms**, terdapat outlier sebanyak 820 data atau setara 6,1 % outliernya, namun outlier ini tidak dihapus karena pertimbangan jumlah kamar tidur setiap rumah berbeda-beda dan hal ini dipengaruhi dari jumlah orang yang tinggal dirumah tersebut."
   ]
  },
  {
   "cell_type": "code",
   "execution_count": 21,
   "metadata": {},
   "outputs": [
    {
     "data": {
      "image/png": "[encoded data removed]",
      "text/plain": [
       "<Figure size 432x288 with 1 Axes>"
      ]
     },
     "metadata": {
      "needs_background": "light"
     },
     "output_type": "display_data"
    },
    {
     "data": {
      "text/html": [
       "<div>\n",
       "<style scoped>\n",
       "    .dataframe tbody tr th:only-of-type {\n",
       "        vertical-align: middle;\n",
       "    }\n",
       "\n",
       "    .dataframe tbody tr th {\n",
       "        vertical-align: top;\n",
       "    }\n",
       "\n",
       "    .dataframe thead th {\n",
       "        text-align: right;\n",
       "    }\n",
       "</style>\n",
       "<table border=\"1\" class=\"dataframe\">\n",
       "  <thead>\n",
       "    <tr style=\"text-align: right;\">\n",
       "      <th></th>\n",
       "      <th>longitude</th>\n",
       "      <th>latitude</th>\n",
       "      <th>housing_median_age</th>\n",
       "      <th>total_rooms</th>\n",
       "      <th>total_bedrooms</th>\n",
       "      <th>population</th>\n",
       "      <th>households</th>\n",
       "      <th>median_income</th>\n",
       "      <th>ocean_proximity</th>\n",
       "      <th>median_house_value</th>\n",
       "    </tr>\n",
       "  </thead>\n",
       "  <tbody>\n",
       "    <tr>\n",
       "      <th>5</th>\n",
       "      <td>-117.79</td>\n",
       "      <td>33.80</td>\n",
       "      <td>11.0</td>\n",
       "      <td>10535</td>\n",
       "      <td>1620</td>\n",
       "      <td>4409</td>\n",
       "      <td>1622</td>\n",
       "      <td>6.6700</td>\n",
       "      <td>&lt;1H OCEAN</td>\n",
       "      <td>283200.0</td>\n",
       "    </tr>\n",
       "    <tr>\n",
       "      <th>9</th>\n",
       "      <td>-122.27</td>\n",
       "      <td>37.97</td>\n",
       "      <td>10.0</td>\n",
       "      <td>15259</td>\n",
       "      <td>2275</td>\n",
       "      <td>7266</td>\n",
       "      <td>2338</td>\n",
       "      <td>6.0666</td>\n",
       "      <td>NEAR BAY</td>\n",
       "      <td>272400.0</td>\n",
       "    </tr>\n",
       "    <tr>\n",
       "      <th>13</th>\n",
       "      <td>-117.50</td>\n",
       "      <td>33.96</td>\n",
       "      <td>12.0</td>\n",
       "      <td>7923</td>\n",
       "      <td>1470</td>\n",
       "      <td>4861</td>\n",
       "      <td>1385</td>\n",
       "      <td>4.2985</td>\n",
       "      <td>INLAND</td>\n",
       "      <td>139200.0</td>\n",
       "    </tr>\n",
       "    <tr>\n",
       "      <th>45</th>\n",
       "      <td>-117.59</td>\n",
       "      <td>33.91</td>\n",
       "      <td>7.0</td>\n",
       "      <td>10223</td>\n",
       "      <td>1491</td>\n",
       "      <td>5205</td>\n",
       "      <td>1509</td>\n",
       "      <td>5.4872</td>\n",
       "      <td>INLAND</td>\n",
       "      <td>203400.0</td>\n",
       "    </tr>\n",
       "    <tr>\n",
       "      <th>54</th>\n",
       "      <td>-121.36</td>\n",
       "      <td>38.67</td>\n",
       "      <td>5.0</td>\n",
       "      <td>5819</td>\n",
       "      <td>1507</td>\n",
       "      <td>3237</td>\n",
       "      <td>1356</td>\n",
       "      <td>2.2339</td>\n",
       "      <td>INLAND</td>\n",
       "      <td>116600.0</td>\n",
       "    </tr>\n",
       "  </tbody>\n",
       "</table>\n",
       "</div>"
      ],
      "text/plain": [
       "    longitude  latitude  housing_median_age  total_rooms  total_bedrooms  \\\n",
       "5     -117.79     33.80                11.0        10535            1620   \n",
       "9     -122.27     37.97                10.0        15259            2275   \n",
       "13    -117.50     33.96                12.0         7923            1470   \n",
       "45    -117.59     33.91                 7.0        10223            1491   \n",
       "54    -121.36     38.67                 5.0         5819            1507   \n",
       "\n",
       "    population  households  median_income ocean_proximity  median_house_value  \n",
       "5         4409        1622         6.6700       <1H OCEAN            283200.0  \n",
       "9         7266        2338         6.0666        NEAR BAY            272400.0  \n",
       "13        4861        1385         4.2985          INLAND            139200.0  \n",
       "45        5205        1509         5.4872          INLAND            203400.0  \n",
       "54        3237        1356         2.2339          INLAND            116600.0  "
      ]
     },
     "execution_count": 21,
     "metadata": {},
     "output_type": "execute_result"
    }
   ],
   "source": [
    "## Mengecek outliers pada fitur population\n",
    "sns.boxplot(df['population'])\n",
    "plt.title('Boxplot Outlier population')\n",
    "plt.show()\n",
    "\n",
    "## Codingan untuk menampilkan data frame yang miliki outlier untuk kolom population\n",
    "outliers_population=check_outliers(df,'population')\n",
    "outliers_population.head()"
   ]
  },
  {
   "cell_type": "code",
   "execution_count": 22,
   "metadata": {},
   "outputs": [
    {
     "name": "stdout",
     "output_type": "stream",
     "text": [
      "Total outlier pada kolom population : 759\n",
      "Total data awal: 13384\n",
      "Persentase total outlier dari total data (%): 5.67095038852361\n"
     ]
    }
   ],
   "source": [
    "## Mencetak informasi total outlier dari kolom population\n",
    "print(f'Total outlier pada kolom population : {outliers_population.shape[0]}')\n",
    "print(f'Total data awal: {df.shape[0]}')\n",
    "print(f'Persentase total outlier dari total data (%): {(outliers_population.shape[0]/df.shape[0])*100}')"
   ]
  },
  {
   "cell_type": "markdown",
   "metadata": {},
   "source": [
    "Dari informasi kolom **population**, terdapat outlier sebanyak 759 data atau setara 5,6 % outliernya, namun outlier ini tidak dihapus karena pertimbangan jumlah orang yang tinggal disuatu blok perumahan berbeda beda. Selain itu pertimbangan lain ada pada lingkungan perumahan, jika lingkungan perumahan elit maka populasi orang tinggal disana sedikit dan jika lingkungan perumahan tidak elit umumnya populasi orang yang tinggal disana banyak."
   ]
  },
  {
   "cell_type": "code",
   "execution_count": 23,
   "metadata": {},
   "outputs": [
    {
     "data": {
      "image/png": "[encoded data removed]",
      "text/plain": [
       "<Figure size 432x288 with 1 Axes>"
      ]
     },
     "metadata": {
      "needs_background": "light"
     },
     "output_type": "display_data"
    },
    {
     "data": {
      "text/html": [
       "<div>\n",
       "<style scoped>\n",
       "    .dataframe tbody tr th:only-of-type {\n",
       "        vertical-align: middle;\n",
       "    }\n",
       "\n",
       "    .dataframe tbody tr th {\n",
       "        vertical-align: top;\n",
       "    }\n",
       "\n",
       "    .dataframe thead th {\n",
       "        text-align: right;\n",
       "    }\n",
       "</style>\n",
       "<table border=\"1\" class=\"dataframe\">\n",
       "  <thead>\n",
       "    <tr style=\"text-align: right;\">\n",
       "      <th></th>\n",
       "      <th>longitude</th>\n",
       "      <th>latitude</th>\n",
       "      <th>housing_median_age</th>\n",
       "      <th>total_rooms</th>\n",
       "      <th>total_bedrooms</th>\n",
       "      <th>population</th>\n",
       "      <th>households</th>\n",
       "      <th>median_income</th>\n",
       "      <th>ocean_proximity</th>\n",
       "      <th>median_house_value</th>\n",
       "    </tr>\n",
       "  </thead>\n",
       "  <tbody>\n",
       "    <tr>\n",
       "      <th>5</th>\n",
       "      <td>-117.79</td>\n",
       "      <td>33.80</td>\n",
       "      <td>11.0</td>\n",
       "      <td>10535</td>\n",
       "      <td>1620</td>\n",
       "      <td>4409</td>\n",
       "      <td>1622</td>\n",
       "      <td>6.6700</td>\n",
       "      <td>&lt;1H OCEAN</td>\n",
       "      <td>283200.0</td>\n",
       "    </tr>\n",
       "    <tr>\n",
       "      <th>9</th>\n",
       "      <td>-122.27</td>\n",
       "      <td>37.97</td>\n",
       "      <td>10.0</td>\n",
       "      <td>15259</td>\n",
       "      <td>2275</td>\n",
       "      <td>7266</td>\n",
       "      <td>2338</td>\n",
       "      <td>6.0666</td>\n",
       "      <td>NEAR BAY</td>\n",
       "      <td>272400.0</td>\n",
       "    </tr>\n",
       "    <tr>\n",
       "      <th>10</th>\n",
       "      <td>-121.94</td>\n",
       "      <td>37.28</td>\n",
       "      <td>18.0</td>\n",
       "      <td>4356</td>\n",
       "      <td>1334</td>\n",
       "      <td>1968</td>\n",
       "      <td>1245</td>\n",
       "      <td>3.6294</td>\n",
       "      <td>&lt;1H OCEAN</td>\n",
       "      <td>240000.0</td>\n",
       "    </tr>\n",
       "    <tr>\n",
       "      <th>13</th>\n",
       "      <td>-117.50</td>\n",
       "      <td>33.96</td>\n",
       "      <td>12.0</td>\n",
       "      <td>7923</td>\n",
       "      <td>1470</td>\n",
       "      <td>4861</td>\n",
       "      <td>1385</td>\n",
       "      <td>4.2985</td>\n",
       "      <td>INLAND</td>\n",
       "      <td>139200.0</td>\n",
       "    </tr>\n",
       "    <tr>\n",
       "      <th>22</th>\n",
       "      <td>-121.53</td>\n",
       "      <td>38.61</td>\n",
       "      <td>5.0</td>\n",
       "      <td>8149</td>\n",
       "      <td>1913</td>\n",
       "      <td>2933</td>\n",
       "      <td>1616</td>\n",
       "      <td>3.6788</td>\n",
       "      <td>INLAND</td>\n",
       "      <td>178800.0</td>\n",
       "    </tr>\n",
       "  </tbody>\n",
       "</table>\n",
       "</div>"
      ],
      "text/plain": [
       "    longitude  latitude  housing_median_age  total_rooms  total_bedrooms  \\\n",
       "5     -117.79     33.80                11.0        10535            1620   \n",
       "9     -122.27     37.97                10.0        15259            2275   \n",
       "10    -121.94     37.28                18.0         4356            1334   \n",
       "13    -117.50     33.96                12.0         7923            1470   \n",
       "22    -121.53     38.61                 5.0         8149            1913   \n",
       "\n",
       "    population  households  median_income ocean_proximity  median_house_value  \n",
       "5         4409        1622         6.6700       <1H OCEAN            283200.0  \n",
       "9         7266        2338         6.0666        NEAR BAY            272400.0  \n",
       "10        1968        1245         3.6294       <1H OCEAN            240000.0  \n",
       "13        4861        1385         4.2985          INLAND            139200.0  \n",
       "22        2933        1616         3.6788          INLAND            178800.0  "
      ]
     },
     "execution_count": 23,
     "metadata": {},
     "output_type": "execute_result"
    }
   ],
   "source": [
    "## Mengecek outliers pada fitur households\n",
    "sns.boxplot(df['households'])\n",
    "plt.title('Boxplot Outlier households')\n",
    "plt.show()\n",
    "\n",
    "## Codingan untuk menampilkan data frame yang miliki outlier untuk kolom households\n",
    "outliers_households=check_outliers(df,'households')\n",
    "outliers_households.head()"
   ]
  },
  {
   "cell_type": "code",
   "execution_count": 24,
   "metadata": {},
   "outputs": [
    {
     "name": "stdout",
     "output_type": "stream",
     "text": [
      "Total outlier pada kolom households : 799\n",
      "Total data awal: 13384\n",
      "Persentase total outlier dari total data (%): 5.969814704124327\n"
     ]
    }
   ],
   "source": [
    "## Mencetak informasi total outlier dari kolom households\n",
    "print(f'Total outlier pada kolom households : {outliers_households.shape[0]}')\n",
    "print(f'Total data awal: {df.shape[0]}')\n",
    "print(f'Persentase total outlier dari total data (%): {(outliers_households.shape[0]/df.shape[0])*100}')"
   ]
  },
  {
   "cell_type": "markdown",
   "metadata": {},
   "source": [
    "Dari informasi kolom **households**, terdapat outlier sebanyak 799 data atau setara 5,9 % dibulatkan menjadi sekitar 6% outliernya, namun outlier ini tidak dihapus. Karena untuk kepala keluarga dalam 1 blok perumahan berbeda beda dan tidak bisa di batasi, jika daerah perumahan yang tidak elit kemungkinan besar jumlah kepala keluarga nya banyak."
   ]
  },
  {
   "cell_type": "code",
   "execution_count": 25,
   "metadata": {},
   "outputs": [
    {
     "data": {
      "image/png": "[encoded data removed]",
      "text/plain": [
       "<Figure size 432x288 with 1 Axes>"
      ]
     },
     "metadata": {
      "needs_background": "light"
     },
     "output_type": "display_data"
    },
    {
     "data": {
      "text/html": [
       "<div>\n",
       "<style scoped>\n",
       "    .dataframe tbody tr th:only-of-type {\n",
       "        vertical-align: middle;\n",
       "    }\n",
       "\n",
       "    .dataframe tbody tr th {\n",
       "        vertical-align: top;\n",
       "    }\n",
       "\n",
       "    .dataframe thead th {\n",
       "        text-align: right;\n",
       "    }\n",
       "</style>\n",
       "<table border=\"1\" class=\"dataframe\">\n",
       "  <thead>\n",
       "    <tr style=\"text-align: right;\">\n",
       "      <th></th>\n",
       "      <th>longitude</th>\n",
       "      <th>latitude</th>\n",
       "      <th>housing_median_age</th>\n",
       "      <th>total_rooms</th>\n",
       "      <th>total_bedrooms</th>\n",
       "      <th>population</th>\n",
       "      <th>households</th>\n",
       "      <th>median_income</th>\n",
       "      <th>ocean_proximity</th>\n",
       "      <th>median_house_value</th>\n",
       "    </tr>\n",
       "  </thead>\n",
       "  <tbody>\n",
       "    <tr>\n",
       "      <th>6</th>\n",
       "      <td>-117.80</td>\n",
       "      <td>33.81</td>\n",
       "      <td>14.0</td>\n",
       "      <td>1206</td>\n",
       "      <td>142</td>\n",
       "      <td>572</td>\n",
       "      <td>149</td>\n",
       "      <td>8.8470</td>\n",
       "      <td>&lt;1H OCEAN</td>\n",
       "      <td>388700.0</td>\n",
       "    </tr>\n",
       "    <tr>\n",
       "      <th>8</th>\n",
       "      <td>-117.65</td>\n",
       "      <td>33.48</td>\n",
       "      <td>6.0</td>\n",
       "      <td>1638</td>\n",
       "      <td>188</td>\n",
       "      <td>572</td>\n",
       "      <td>174</td>\n",
       "      <td>13.0502</td>\n",
       "      <td>&lt;1H OCEAN</td>\n",
       "      <td>500001.0</td>\n",
       "    </tr>\n",
       "    <tr>\n",
       "      <th>43</th>\n",
       "      <td>-122.21</td>\n",
       "      <td>37.37</td>\n",
       "      <td>34.0</td>\n",
       "      <td>1476</td>\n",
       "      <td>217</td>\n",
       "      <td>613</td>\n",
       "      <td>223</td>\n",
       "      <td>8.2883</td>\n",
       "      <td>NEAR OCEAN</td>\n",
       "      <td>500001.0</td>\n",
       "    </tr>\n",
       "    <tr>\n",
       "      <th>73</th>\n",
       "      <td>-121.99</td>\n",
       "      <td>37.26</td>\n",
       "      <td>17.0</td>\n",
       "      <td>4034</td>\n",
       "      <td>611</td>\n",
       "      <td>1158</td>\n",
       "      <td>560</td>\n",
       "      <td>8.2069</td>\n",
       "      <td>&lt;1H OCEAN</td>\n",
       "      <td>442500.0</td>\n",
       "    </tr>\n",
       "    <tr>\n",
       "      <th>124</th>\n",
       "      <td>-121.89</td>\n",
       "      <td>37.23</td>\n",
       "      <td>20.0</td>\n",
       "      <td>7754</td>\n",
       "      <td>976</td>\n",
       "      <td>3094</td>\n",
       "      <td>941</td>\n",
       "      <td>8.1900</td>\n",
       "      <td>&lt;1H OCEAN</td>\n",
       "      <td>361600.0</td>\n",
       "    </tr>\n",
       "  </tbody>\n",
       "</table>\n",
       "</div>"
      ],
      "text/plain": [
       "     longitude  latitude  housing_median_age  total_rooms  total_bedrooms  \\\n",
       "6      -117.80     33.81                14.0         1206             142   \n",
       "8      -117.65     33.48                 6.0         1638             188   \n",
       "43     -122.21     37.37                34.0         1476             217   \n",
       "73     -121.99     37.26                17.0         4034             611   \n",
       "124    -121.89     37.23                20.0         7754             976   \n",
       "\n",
       "     population  households  median_income ocean_proximity  median_house_value  \n",
       "6           572         149         8.8470       <1H OCEAN            388700.0  \n",
       "8           572         174        13.0502       <1H OCEAN            500001.0  \n",
       "43          613         223         8.2883      NEAR OCEAN            500001.0  \n",
       "73         1158         560         8.2069       <1H OCEAN            442500.0  \n",
       "124        3094         941         8.1900       <1H OCEAN            361600.0  "
      ]
     },
     "execution_count": 25,
     "metadata": {},
     "output_type": "execute_result"
    }
   ],
   "source": [
    "## Mengecek outliers pada fitur median_income\n",
    "sns.boxplot(df['households'])\n",
    "plt.title('Boxplot Outlier median_income')\n",
    "plt.show()\n",
    "\n",
    "## Codingan untuk menampilkan data frame yang miliki outlier untuk kolom median_income\n",
    "outliers_median_income=check_outliers(df,'median_income')\n",
    "outliers_median_income.head()"
   ]
  },
  {
   "cell_type": "code",
   "execution_count": 26,
   "metadata": {},
   "outputs": [
    {
     "name": "stdout",
     "output_type": "stream",
     "text": [
      "Total outlier pada kolom median_income : 421\n",
      "Total data awal: 13384\n",
      "Persentase total outlier dari total data (%): 3.1455469216975493\n"
     ]
    }
   ],
   "source": [
    "## Mencetak informasi total outlier dari kolom median_income\n",
    "print(f'Total outlier pada kolom median_income : {outliers_median_income.shape[0]}')\n",
    "print(f'Total data awal: {df.shape[0]}')\n",
    "print(f'Persentase total outlier dari total data (%): {(outliers_median_income.shape[0]/df.shape[0])*100}')"
   ]
  },
  {
   "cell_type": "markdown",
   "metadata": {},
   "source": [
    "Dari informasi kolom **median_income**, terdapat outlier sebanyak 421 data atau setara 3,1 %, outlier ini tidak dihapus karena ini informasi terkait pendapatan orang rata rata dalam 1 blok dapat memberikan gambaran tentang blok perumahan tersebut masuk dalam perumahan mewah atau tidak dan umumnya orang yang memiliki pendapatan tinggi akan berada pada kawasan mewah."
   ]
  },
  {
   "cell_type": "code",
   "execution_count": 27,
   "metadata": {},
   "outputs": [
    {
     "data": {
      "image/png": "[encoded data removed]",
      "text/plain": [
       "<Figure size 432x288 with 1 Axes>"
      ]
     },
     "metadata": {
      "needs_background": "light"
     },
     "output_type": "display_data"
    },
    {
     "data": {
      "text/html": [
       "<div>\n",
       "<style scoped>\n",
       "    .dataframe tbody tr th:only-of-type {\n",
       "        vertical-align: middle;\n",
       "    }\n",
       "\n",
       "    .dataframe tbody tr th {\n",
       "        vertical-align: top;\n",
       "    }\n",
       "\n",
       "    .dataframe thead th {\n",
       "        text-align: right;\n",
       "    }\n",
       "</style>\n",
       "<table border=\"1\" class=\"dataframe\">\n",
       "  <thead>\n",
       "    <tr style=\"text-align: right;\">\n",
       "      <th></th>\n",
       "      <th>longitude</th>\n",
       "      <th>latitude</th>\n",
       "      <th>housing_median_age</th>\n",
       "      <th>total_rooms</th>\n",
       "      <th>total_bedrooms</th>\n",
       "      <th>population</th>\n",
       "      <th>households</th>\n",
       "      <th>median_income</th>\n",
       "      <th>ocean_proximity</th>\n",
       "      <th>median_house_value</th>\n",
       "    </tr>\n",
       "  </thead>\n",
       "  <tbody>\n",
       "    <tr>\n",
       "      <th>8</th>\n",
       "      <td>-117.65</td>\n",
       "      <td>33.48</td>\n",
       "      <td>6.0</td>\n",
       "      <td>1638</td>\n",
       "      <td>188</td>\n",
       "      <td>572</td>\n",
       "      <td>174</td>\n",
       "      <td>13.0502</td>\n",
       "      <td>&lt;1H OCEAN</td>\n",
       "      <td>500001.0</td>\n",
       "    </tr>\n",
       "    <tr>\n",
       "      <th>43</th>\n",
       "      <td>-122.21</td>\n",
       "      <td>37.37</td>\n",
       "      <td>34.0</td>\n",
       "      <td>1476</td>\n",
       "      <td>217</td>\n",
       "      <td>613</td>\n",
       "      <td>223</td>\n",
       "      <td>8.2883</td>\n",
       "      <td>NEAR OCEAN</td>\n",
       "      <td>500001.0</td>\n",
       "    </tr>\n",
       "    <tr>\n",
       "      <th>106</th>\n",
       "      <td>-117.92</td>\n",
       "      <td>33.63</td>\n",
       "      <td>39.0</td>\n",
       "      <td>1469</td>\n",
       "      <td>226</td>\n",
       "      <td>553</td>\n",
       "      <td>225</td>\n",
       "      <td>7.8496</td>\n",
       "      <td>&lt;1H OCEAN</td>\n",
       "      <td>490800.0</td>\n",
       "    </tr>\n",
       "    <tr>\n",
       "      <th>158</th>\n",
       "      <td>-118.38</td>\n",
       "      <td>34.14</td>\n",
       "      <td>40.0</td>\n",
       "      <td>1965</td>\n",
       "      <td>354</td>\n",
       "      <td>666</td>\n",
       "      <td>357</td>\n",
       "      <td>6.0876</td>\n",
       "      <td>&lt;1H OCEAN</td>\n",
       "      <td>483800.0</td>\n",
       "    </tr>\n",
       "    <tr>\n",
       "      <th>236</th>\n",
       "      <td>-121.89</td>\n",
       "      <td>37.46</td>\n",
       "      <td>5.0</td>\n",
       "      <td>1519</td>\n",
       "      <td>186</td>\n",
       "      <td>705</td>\n",
       "      <td>186</td>\n",
       "      <td>10.3798</td>\n",
       "      <td>&lt;1H OCEAN</td>\n",
       "      <td>500001.0</td>\n",
       "    </tr>\n",
       "  </tbody>\n",
       "</table>\n",
       "</div>"
      ],
      "text/plain": [
       "     longitude  latitude  housing_median_age  total_rooms  total_bedrooms  \\\n",
       "8      -117.65     33.48                 6.0         1638             188   \n",
       "43     -122.21     37.37                34.0         1476             217   \n",
       "106    -117.92     33.63                39.0         1469             226   \n",
       "158    -118.38     34.14                40.0         1965             354   \n",
       "236    -121.89     37.46                 5.0         1519             186   \n",
       "\n",
       "     population  households  median_income ocean_proximity  median_house_value  \n",
       "8           572         174        13.0502       <1H OCEAN            500001.0  \n",
       "43          613         223         8.2883      NEAR OCEAN            500001.0  \n",
       "106         553         225         7.8496       <1H OCEAN            490800.0  \n",
       "158         666         357         6.0876       <1H OCEAN            483800.0  \n",
       "236         705         186        10.3798       <1H OCEAN            500001.0  "
      ]
     },
     "execution_count": 27,
     "metadata": {},
     "output_type": "execute_result"
    }
   ],
   "source": [
    "## Mengecek outliers pada fitur median_house_value\n",
    "sns.boxplot(df['median_house_value'])\n",
    "plt.title('Boxplot Outlier median_house_value')\n",
    "plt.show()\n",
    "\n",
    "## Codingan untuk menampilkan data frame yang miliki outlier untuk kolom median_house_value\n",
    "outliers_median_house_value=check_outliers(df,'median_house_value')\n",
    "outliers_median_house_value.head()"
   ]
  },
  {
   "cell_type": "code",
   "execution_count": 28,
   "metadata": {},
   "outputs": [
    {
     "name": "stdout",
     "output_type": "stream",
     "text": [
      "Total outlier pada kolom median_house_value : 663\n",
      "Total data awal: 13384\n",
      "Persentase total outlier dari total data (%): 4.953676031081889\n"
     ]
    }
   ],
   "source": [
    "## Mencetak informasi total outlier dari kolom median_house_value\n",
    "print(f'Total outlier pada kolom median_house_value : {outliers_median_house_value.shape[0]}')\n",
    "print(f'Total data awal: {df.shape[0]}')\n",
    "print(f'Persentase total outlier dari total data (%): {(outliers_median_house_value.shape[0]/df.shape[0])*100}')"
   ]
  },
  {
   "cell_type": "code",
   "execution_count": 29,
   "metadata": {},
   "outputs": [
    {
     "data": {
      "text/plain": [
       "count     13384.000000\n",
       "mean     202110.104603\n",
       "std      111980.553989\n",
       "min       14999.000000\n",
       "25%      118200.000000\n",
       "50%      176700.000000\n",
       "75%      255925.000000\n",
       "max      500001.000000\n",
       "Name: median_house_value, dtype: float64"
      ]
     },
     "execution_count": 29,
     "metadata": {},
     "output_type": "execute_result"
    }
   ],
   "source": [
    "## Mengecek harga maksimal rumah sebelum hapus outlier\n",
    "df['median_house_value'].describe()"
   ]
  },
  {
   "cell_type": "code",
   "execution_count": 30,
   "metadata": {},
   "outputs": [],
   "source": [
    "## Drop outliers data of median_house_value\n",
    "df.drop(outliers_median_house_value.index,inplace=True)"
   ]
  },
  {
   "cell_type": "code",
   "execution_count": 31,
   "metadata": {},
   "outputs": [
    {
     "data": {
      "text/plain": [
       "count     12721.000000\n",
       "mean     186754.020674\n",
       "std       91809.093512\n",
       "min       14999.000000\n",
       "25%      115000.000000\n",
       "50%      170600.000000\n",
       "75%      240200.000000\n",
       "max      462200.000000\n",
       "Name: median_house_value, dtype: float64"
      ]
     },
     "execution_count": 31,
     "metadata": {},
     "output_type": "execute_result"
    }
   ],
   "source": [
    "## Mengecek harga maksimal rumah setelah hapus outlier\n",
    "df['median_house_value'].describe()"
   ]
  },
  {
   "cell_type": "markdown",
   "metadata": {},
   "source": [
    "Dari informasi kolom **median_house_value**, terdapat outlier sebanyak 663 data atau setara 4,9 %, outlier ini dihapus karena ini adalah target yang harusnya bias pada target sedikit sehingga alasan ini saya memutuskan untuk menghapus outlier. Awalnya harga rumah tertinggi 500001 US Dollar namun saya hapus outlier dan harga rumah tertinggi sekarang adalah 462200 US Dollar."
   ]
  },
  {
   "cell_type": "markdown",
   "metadata": {},
   "source": [
    "**Mengecek Distribusi Data**"
   ]
  },
  {
   "cell_type": "code",
   "execution_count": 32,
   "metadata": {},
   "outputs": [
    {
     "data": {
      "text/plain": [
       "array([[<AxesSubplot:title={'center':'longitude'}>,\n",
       "        <AxesSubplot:title={'center':'latitude'}>,\n",
       "        <AxesSubplot:title={'center':'housing_median_age'}>],\n",
       "       [<AxesSubplot:title={'center':'total_rooms'}>,\n",
       "        <AxesSubplot:title={'center':'total_bedrooms'}>,\n",
       "        <AxesSubplot:title={'center':'population'}>],\n",
       "       [<AxesSubplot:title={'center':'households'}>,\n",
       "        <AxesSubplot:title={'center':'median_income'}>,\n",
       "        <AxesSubplot:title={'center':'median_house_value'}>]],\n",
       "      dtype=object)"
      ]
     },
     "execution_count": 32,
     "metadata": {},
     "output_type": "execute_result"
    },
    {
     "data": {
      "image/png": "[encoded data removed]",
      "text/plain": [
       "<Figure size 2160x1440 with 9 Axes>"
      ]
     },
     "metadata": {
      "needs_background": "light"
     },
     "output_type": "display_data"
    }
   ],
   "source": [
    "## Visualisasi data untuk mengecek distribusi data\n",
    "df.hist(bins=40,figsize=(30,20))"
   ]
  },
  {
   "cell_type": "markdown",
   "metadata": {},
   "source": [
    "Berdasarkan dari visualisasi data di atas adapat dilihat data tidak berdistribusi normal."
   ]
  },
  {
   "cell_type": "markdown",
   "metadata": {},
   "source": [
    "# Melihat korelasi data"
   ]
  },
  {
   "cell_type": "code",
   "execution_count": 33,
   "metadata": {},
   "outputs": [
    {
     "data": {
      "image/png": "[encoded data removed]",
      "text/plain": [
       "<Figure size 1800x864 with 2 Axes>"
      ]
     },
     "metadata": {
      "needs_background": "light"
     },
     "output_type": "display_data"
    }
   ],
   "source": [
    "## Visualisasi korealasi\n",
    "plt.figure(figsize=(25, 12))\n",
    "palette=sns.diverging_palette(20, 220, n=256)\n",
    "corr = df.corr(method='spearman')\n",
    "sns.heatmap(corr, annot=True, fmt='.2f', cmap=palette, square=True, linewidths=.5)\n",
    "plt.title('Correlation Matrix', size=15, weight='bold');"
   ]
  },
  {
   "cell_type": "markdown",
   "metadata": {},
   "source": [
    "- Jika dilihat dari data di atas :\n",
    "  - longtitude dan latitude memiliki memiliki **korelasi negatif dengan kategori lemah,** jadi dimana letak lokasi perumahan tidak mempengaruhi kenaikan harga rumah.\n",
    "  - house_median_age, total_rooms, total_bedrooms, population, households memiliki **korelasi positif namun masuk dalam kategori lemah**, artinya semakin tinggi nilai dari median_house_value maka semakin tinggi juga nilai house_median_age, total_rooms, total_bedrooms, population, households.\n",
    "  - median_income memiliki **korelasi positif dan masuk dalam kategori sedang**, artinya semakin tinggi nilai dari median_house_value maka semakin tinggi juga nilai median_income."
   ]
  },
  {
   "cell_type": "markdown",
   "metadata": {},
   "source": [
    "## **Modeling Machine Learning**"
   ]
  },
  {
   "cell_type": "markdown",
   "metadata": {},
   "source": [
    "#### **- Mengimport Library Machine Learning**"
   ]
  },
  {
   "cell_type": "code",
   "execution_count": 34,
   "metadata": {},
   "outputs": [],
   "source": [
    "# Import library untuk kebutuhan Machine Learning :\n",
    "\n",
    "### Feature Engineering\n",
    "from sklearn.compose import ColumnTransformer\n",
    "from sklearn.pipeline import Pipeline\n",
    "from sklearn.preprocessing import OneHotEncoder\n",
    "from sklearn.preprocessing import StandardScaler\n",
    "\n",
    "### Untuk membuat Pola machine learning dan Mencari Alpha terbaik untuk tunning\n",
    "from sklearn.model_selection import train_test_split, cross_val_score, RandomizedSearchCV, GridSearchCV, KFold\n",
    "import category_encoders as ce\n",
    "\n",
    "### Untuk Modelling Machine Learning\n",
    "from sklearn.linear_model import LinearRegression\n",
    "from sklearn.neighbors import KNeighborsRegressor\n",
    "from sklearn.tree import DecisionTreeRegressor\n",
    "from sklearn.ensemble import RandomForestRegressor\n",
    "from xgboost.sklearn import XGBRegressor\n",
    "\n",
    "###\n",
    "from sklearn.compose import TransformedTargetRegressor\n",
    "from sklearn.model_selection import cross_validate\n",
    "\n",
    "\n",
    "### Untuk melihat persentase error dari selisih data aktual dengan data prediksi serta melihat rata-rata persentase error\n",
    "from sklearn.metrics import mean_absolute_error, mean_absolute_percentage_error"
   ]
  },
  {
   "cell_type": "markdown",
   "metadata": {},
   "source": [
    "#### **- Feature Engineering**"
   ]
  },
  {
   "cell_type": "markdown",
   "metadata": {},
   "source": [
    "- Sebelum melakukan splitting data , disini saya melakukan encoding dahulu yaitu pada bagian kolom **ocean_proximity** yang berisikan informasi jarak rumah dengan pantai ini berisikan data kategorikal. Disini saya akan mengubahnya menjadi numerikal dengan menggunakan teknik **onehot encoding**.\n",
    "#\n",
    "- Untuk kolom numerikalnya saya menggunakan scaling standard scaler, yang bertujuan melakukan normalisasi data agar data yang digunakan tidak memiliki penyimpangan yang besar."
   ]
  },
  {
   "cell_type": "code",
   "execution_count": 35,
   "metadata": {},
   "outputs": [],
   "source": [
    "## Menyiapkan variabel kolom kategorikal untuk di encoding\n",
    "categorical_column = ['ocean_proximity']\n",
    "\n",
    "## Mempersipakan variabel kolom numerikal untuk di scalling\n",
    "numerikal_column = [\n",
    "'housing_median_age',\n",
    "'total_rooms',\n",
    "'total_bedrooms',\n",
    "'population',\n",
    "'households',\n",
    "'median_income' \n",
    " ]\n",
    "\n",
    "## variabel berisikan pipeline untuk feature engineering kolom kategorikal\n",
    "categorical_tranformer = Pipeline([('encoding_onehotencoding',OneHotEncoder(drop='first', handle_unknown='ignore')),\n",
    "])\n",
    "\n",
    "## variabel berisikan pipeline untuk feature engineering kolom numerikal\n",
    "numerical_transformer = Pipeline(steps=[('scaling',StandardScaler(with_mean=False))\n",
    "])\n",
    "\n",
    "## Menggabungkan pipeline categorical dan pipeline numerikal\n",
    "transformer = ColumnTransformer([\n",
    "        ('transformation_categorical', categorical_tranformer, categorical_column),\n",
    "        ('transformation_numerical', numerical_transformer,numerikal_column)],remainder='passthrough')"
   ]
  },
  {
   "cell_type": "markdown",
   "metadata": {},
   "source": [
    "#### **- Splitting Data**"
   ]
  },
  {
   "cell_type": "code",
   "execution_count": 36,
   "metadata": {},
   "outputs": [],
   "source": [
    "## Memisahkan data independen variabel dengan target\n",
    "X = df.drop(['median_house_value'], axis=1)\n",
    "y = df['median_house_value']"
   ]
  },
  {
   "cell_type": "markdown",
   "metadata": {},
   "source": [
    "#### **- Train Test Split**"
   ]
  },
  {
   "cell_type": "code",
   "execution_count": 37,
   "metadata": {},
   "outputs": [],
   "source": [
    "## Splitting data training dan test dengan proporsi 70:30\n",
    "X_train, X_test, y_train, y_test= train_test_split(X,y,test_size=0.3,random_state=42)"
   ]
  },
  {
   "cell_type": "markdown",
   "metadata": {},
   "source": [
    "#### **- Algoritma yang digunakan**"
   ]
  },
  {
   "cell_type": "code",
   "execution_count": 38,
   "metadata": {},
   "outputs": [],
   "source": [
    "## Menyiapkan algoritma yang digunakan\n",
    "model_lr = LinearRegression()\n",
    "model_knn = KNeighborsRegressor()\n",
    "model_dt = DecisionTreeRegressor(random_state=42)\n",
    "model_rf = RandomForestRegressor(random_state=42)\n",
    "model_xgb = XGBRegressor(random_state=42)"
   ]
  },
  {
   "cell_type": "code",
   "execution_count": 39,
   "metadata": {},
   "outputs": [],
   "source": [
    "## Pemodelan dilakukan dalam skala logaritmik, namun kemudian di-inverse kembali untuk interpretasi\n",
    "log_lr = TransformedTargetRegressor(model_lr, func=np.log, inverse_func=np.exp)\n",
    "log_knn = TransformedTargetRegressor(model_knn, func=np.log, inverse_func=np.exp)\n",
    "log_dt = TransformedTargetRegressor(model_dt, func=np.log, inverse_func=np.exp)\n",
    "log_rf = TransformedTargetRegressor(model_rf, func=np.log, inverse_func=np.exp)\n",
    "log_xgb = TransformedTargetRegressor(model_xgb, func=np.log, inverse_func=np.exp)"
   ]
  },
  {
   "cell_type": "code",
   "execution_count": 40,
   "metadata": {},
   "outputs": [
    {
     "name": "stdout",
     "output_type": "stream",
     "text": [
      "[-43184.81054566 -40416.50363325 -41157.87652923 -40258.86688644\n",
      " -41886.13198488] TransformedTargetRegressor(func=<ufunc 'log'>, inverse_func=<ufunc 'exp'>,\n",
      "                           regressor=LinearRegression())\n",
      "[-0.24436865 -0.23925639 -0.23728565 -0.23191367 -0.24036693] TransformedTargetRegressor(func=<ufunc 'log'>, inverse_func=<ufunc 'exp'>,\n",
      "                           regressor=LinearRegression())\n",
      "[-36303.15381927 -34552.96087325 -36466.37350884 -35597.66172594\n",
      " -35053.18070543] TransformedTargetRegressor(func=<ufunc 'log'>, inverse_func=<ufunc 'exp'>,\n",
      "                           regressor=KNeighborsRegressor())\n",
      "[-0.2023412  -0.20230057 -0.2005997  -0.20024322 -0.19891339] TransformedTargetRegressor(func=<ufunc 'log'>, inverse_func=<ufunc 'exp'>,\n",
      "                           regressor=KNeighborsRegressor())\n",
      "[-42733.24031443 -41850.08534531 -40278.94441325 -43317.51824818\n",
      " -42659.26966292] TransformedTargetRegressor(func=<ufunc 'log'>, inverse_func=<ufunc 'exp'>,\n",
      "                           regressor=DecisionTreeRegressor(random_state=42))\n",
      "[-0.24730901 -0.2566731  -0.22951901 -0.25310058 -0.24547365] TransformedTargetRegressor(func=<ufunc 'log'>, inverse_func=<ufunc 'exp'>,\n",
      "                           regressor=DecisionTreeRegressor(random_state=42))\n",
      "[-30795.82638937 -29742.33155176 -30583.02396706 -29416.38913032\n",
      " -30464.32476006] TransformedTargetRegressor(func=<ufunc 'log'>, inverse_func=<ufunc 'exp'>,\n",
      "                           regressor=RandomForestRegressor(random_state=42))\n",
      "[-0.17087425 -0.17663112 -0.1723127  -0.16687463 -0.17385664] TransformedTargetRegressor(func=<ufunc 'log'>, inverse_func=<ufunc 'exp'>,\n",
      "                           regressor=RandomForestRegressor(random_state=42))\n",
      "[-29996.21206924 -28663.43323844 -29095.37386168 -27595.77240775\n",
      " -28991.2966336 ] TransformedTargetRegressor(func=<ufunc 'log'>, inverse_func=<ufunc 'exp'>,\n",
      "                           regressor=XGBRegressor(base_score=None, booster=None,\n",
      "                                                  callbacks=None,\n",
      "                                                  colsample_bylevel=None,\n",
      "                                                  colsample_bynode=None,\n",
      "                                                  colsample_bytree=None,\n",
      "                                                  early_stopping_rounds=None,\n",
      "                                                  enable_categorical=False,\n",
      "                                                  eval_metric=None, gamma=None,\n",
      "                                                  gpu_id=None, grow_policy=None,\n",
      "                                                  importance_type=None,\n",
      "                                                  interaction_constraints=None,\n",
      "                                                  learning_rate=None,\n",
      "                                                  max_bin=None,\n",
      "                                                  max_cat_to_onehot=None,\n",
      "                                                  max_delta_step=None,\n",
      "                                                  max_depth=None,\n",
      "                                                  max_leaves=None,\n",
      "                                                  min_child_weight=None,\n",
      "                                                  missing=nan,\n",
      "                                                  monotone_constraints=None,\n",
      "                                                  n_estimators=100, n_jobs=None,\n",
      "                                                  num_parallel_tree=None,\n",
      "                                                  predictor=None,\n",
      "                                                  random_state=42,\n",
      "                                                  reg_alpha=None,\n",
      "                                                  reg_lambda=None, ...))\n",
      "[-0.17180183 -0.16763256 -0.16449728 -0.15818573 -0.16545599] TransformedTargetRegressor(func=<ufunc 'log'>, inverse_func=<ufunc 'exp'>,\n",
      "                           regressor=XGBRegressor(base_score=None, booster=None,\n",
      "                                                  callbacks=None,\n",
      "                                                  colsample_bylevel=None,\n",
      "                                                  colsample_bynode=None,\n",
      "                                                  colsample_bytree=None,\n",
      "                                                  early_stopping_rounds=None,\n",
      "                                                  enable_categorical=False,\n",
      "                                                  eval_metric=None, gamma=None,\n",
      "                                                  gpu_id=None, grow_policy=None,\n",
      "                                                  importance_type=None,\n",
      "                                                  interaction_constraints=None,\n",
      "                                                  learning_rate=None,\n",
      "                                                  max_bin=None,\n",
      "                                                  max_cat_to_onehot=None,\n",
      "                                                  max_delta_step=None,\n",
      "                                                  max_depth=None,\n",
      "                                                  max_leaves=None,\n",
      "                                                  min_child_weight=None,\n",
      "                                                  missing=nan,\n",
      "                                                  monotone_constraints=None,\n",
      "                                                  n_estimators=100, n_jobs=None,\n",
      "                                                  num_parallel_tree=None,\n",
      "                                                  predictor=None,\n",
      "                                                  random_state=42,\n",
      "                                                  reg_alpha=None,\n",
      "                                                  reg_lambda=None, ...))\n"
     ]
    }
   ],
   "source": [
    "## Memasukan kandidat algoritma dalam sebuah variabel\n",
    "models = [log_lr, log_knn, log_dt, log_rf, log_xgb]\n",
    "\n",
    "## Untuk menyimpan nilai MAE\n",
    "score_mae = []\n",
    "nilai_mean_mae = []\n",
    "nilai_std_mae = []\n",
    "\n",
    "## Untuk menyimpan nilai MAPE\n",
    "score_mape = []\n",
    "nilai_mean_mape = []\n",
    "nilai_std_mape = []\n",
    "\n",
    "\n",
    "## Mencari algoritma terbaik dalam tahap train\n",
    "for i in models:\n",
    "    \n",
    "    ## metode statistik yang dapat digunakan untuk mengevaluasi kinerja model\n",
    "    crossval = KFold(n_splits=5, shuffle=True, random_state=42) #n_split 5 kombinasi, #shuffle untuk mengacak -> dibagi 5 berdasarkan n_splits\n",
    "\n",
    "\n",
    "    estimator = Pipeline([\n",
    "        ('preprocessing', transformer),\n",
    "        ('model_machine_learning', i)\n",
    "    ])\n",
    "\n",
    "    ## MAE\n",
    "    model_cv_mae = cross_val_score(\n",
    "        estimator, \n",
    "        X_train, \n",
    "        y_train, \n",
    "        cv=crossval, \n",
    "        scoring='neg_mean_absolute_error',  \n",
    "        error_score='raise' ### Jika diatur ke 'raise', nilai error dimunculkan \n",
    "        )\n",
    "        ### neg_mean_absolute_error ini scoring parameter untuk nanti dapat di gunakan pada metrik mean_absolute_error\n",
    "        ### Jika diatur ke 'raise', nilai error dimunculkan \n",
    "\n",
    "    print(model_cv_mae, i)\n",
    "\n",
    "    score_mae.append(model_cv_mae)\n",
    "    nilai_mean_mae.append(model_cv_mae.mean())\n",
    "    nilai_std_mae.append(model_cv_mae.std())\n",
    "\n",
    "\n",
    "    ## MAPE\n",
    "    model_cv_mape = cross_val_score(\n",
    "        estimator, \n",
    "        X_train, \n",
    "        y_train, \n",
    "        cv=crossval, \n",
    "        scoring='neg_mean_absolute_percentage_error', \n",
    "        error_score='raise' \n",
    "        )\n",
    "     ### neg_mean_absolute_percentage_error ini scoring parameter untuk nanti dapat di gunakan pada metrik mean_absolute_percentage_error\n",
    "     ### Jika diatur ke 'raise', nilai error dimunculkan \n",
    "\n",
    "    print(model_cv_mape, i)\n",
    "\n",
    "    score_mape.append(model_cv_mape)\n",
    "    nilai_mean_mape.append(model_cv_mape.mean())\n",
    "    nilai_std_mape.append(model_cv_mape.std())"
   ]
  },
  {
   "cell_type": "code",
   "execution_count": 41,
   "metadata": {},
   "outputs": [
    {
     "name": "stdout",
     "output_type": "stream",
     "text": [
      "Skor Training :\n"
     ]
    },
    {
     "data": {
      "text/html": [
       "<div>\n",
       "<style scoped>\n",
       "    .dataframe tbody tr th:only-of-type {\n",
       "        vertical-align: middle;\n",
       "    }\n",
       "\n",
       "    .dataframe tbody tr th {\n",
       "        vertical-align: top;\n",
       "    }\n",
       "\n",
       "    .dataframe thead th {\n",
       "        text-align: right;\n",
       "    }\n",
       "</style>\n",
       "<table border=\"1\" class=\"dataframe\">\n",
       "  <thead>\n",
       "    <tr style=\"text-align: right;\">\n",
       "      <th></th>\n",
       "      <th>Model</th>\n",
       "      <th>Mean_MAE</th>\n",
       "      <th>Std_MAE</th>\n",
       "      <th>Mean_MAPE</th>\n",
       "      <th>Std_MAPE</th>\n",
       "    </tr>\n",
       "  </thead>\n",
       "  <tbody>\n",
       "    <tr>\n",
       "      <th>0</th>\n",
       "      <td>Training Model Linear Regression</td>\n",
       "      <td>-41380.837916</td>\n",
       "      <td>1072.204339</td>\n",
       "      <td>-0.238638</td>\n",
       "      <td>0.004081</td>\n",
       "    </tr>\n",
       "    <tr>\n",
       "      <th>1</th>\n",
       "      <td>Training Model KNN Regressor</td>\n",
       "      <td>-35594.666127</td>\n",
       "      <td>726.662761</td>\n",
       "      <td>-0.200880</td>\n",
       "      <td>0.001304</td>\n",
       "    </tr>\n",
       "    <tr>\n",
       "      <th>2</th>\n",
       "      <td>Training Model DecisionTree Regressor</td>\n",
       "      <td>-42167.811597</td>\n",
       "      <td>1053.739556</td>\n",
       "      <td>-0.246415</td>\n",
       "      <td>0.009350</td>\n",
       "    </tr>\n",
       "    <tr>\n",
       "      <th>3</th>\n",
       "      <td>Training Model RandomForest Regressor</td>\n",
       "      <td>-30200.379160</td>\n",
       "      <td>528.221489</td>\n",
       "      <td>-0.172110</td>\n",
       "      <td>0.003239</td>\n",
       "    </tr>\n",
       "    <tr>\n",
       "      <th>4</th>\n",
       "      <td>Training Model XGBoost Regressor</td>\n",
       "      <td>-28868.417642</td>\n",
       "      <td>774.619021</td>\n",
       "      <td>-0.165515</td>\n",
       "      <td>0.004444</td>\n",
       "    </tr>\n",
       "  </tbody>\n",
       "</table>\n",
       "</div>"
      ],
      "text/plain": [
       "                                   Model      Mean_MAE      Std_MAE  \\\n",
       "0       Training Model Linear Regression -41380.837916  1072.204339   \n",
       "1           Training Model KNN Regressor -35594.666127   726.662761   \n",
       "2  Training Model DecisionTree Regressor -42167.811597  1053.739556   \n",
       "3  Training Model RandomForest Regressor -30200.379160   528.221489   \n",
       "4       Training Model XGBoost Regressor -28868.417642   774.619021   \n",
       "\n",
       "   Mean_MAPE  Std_MAPE  \n",
       "0  -0.238638  0.004081  \n",
       "1  -0.200880  0.001304  \n",
       "2  -0.246415  0.009350  \n",
       "3  -0.172110  0.003239  \n",
       "4  -0.165515  0.004444  "
      ]
     },
     "execution_count": 41,
     "metadata": {},
     "output_type": "execute_result"
    }
   ],
   "source": [
    "## Evaluasi hasil dari 5 kandidat algoritma training\n",
    "score_training = pd.DataFrame({\n",
    "    'Model': ['Training Model Linear Regression', 'Training Model KNN Regressor', 'Training Model DecisionTree Regressor', 'Training Model RandomForest Regressor', 'Training Model XGBoost Regressor'],\n",
    "    'Mean_MAE': nilai_mean_mae,\n",
    "    'Std_MAE': nilai_std_mae,\n",
    "    'Mean_MAPE': nilai_mean_mape,\n",
    "    'Std_MAPE': nilai_std_mape\n",
    "})\n",
    "print('Skor Training :')\n",
    "score_training"
   ]
  },
  {
   "cell_type": "markdown",
   "metadata": {},
   "source": [
    "## **Pemilihan Modeling Machine Learning**"
   ]
  },
  {
   "cell_type": "markdown",
   "metadata": {},
   "source": [
    "- Melakukan testing data dengan 5 model :"
   ]
  },
  {
   "cell_type": "code",
   "execution_count": 42,
   "metadata": {},
   "outputs": [
    {
     "name": "stdout",
     "output_type": "stream",
     "text": [
      "Hasil Test Set (MAE dalam bentuk US Dollar, MAPE dalam bentuk persentase): \n"
     ]
    },
    {
     "data": {
      "text/html": [
       "<div>\n",
       "<style scoped>\n",
       "    .dataframe tbody tr th:only-of-type {\n",
       "        vertical-align: middle;\n",
       "    }\n",
       "\n",
       "    .dataframe tbody tr th {\n",
       "        vertical-align: top;\n",
       "    }\n",
       "\n",
       "    .dataframe thead th {\n",
       "        text-align: right;\n",
       "    }\n",
       "</style>\n",
       "<table border=\"1\" class=\"dataframe\">\n",
       "  <thead>\n",
       "    <tr style=\"text-align: right;\">\n",
       "      <th></th>\n",
       "      <th>MAE</th>\n",
       "      <th>MAPE</th>\n",
       "    </tr>\n",
       "  </thead>\n",
       "  <tbody>\n",
       "    <tr>\n",
       "      <th>Testing Linear Regression</th>\n",
       "      <td>42086.464186</td>\n",
       "      <td>0.262159</td>\n",
       "    </tr>\n",
       "    <tr>\n",
       "      <th>Testing KNN</th>\n",
       "      <td>35686.775164</td>\n",
       "      <td>0.209156</td>\n",
       "    </tr>\n",
       "    <tr>\n",
       "      <th>Testing Decision Tree Regressor</th>\n",
       "      <td>41444.380665</td>\n",
       "      <td>0.250883</td>\n",
       "    </tr>\n",
       "    <tr>\n",
       "      <th>Testing RandomForest</th>\n",
       "      <td>29916.280343</td>\n",
       "      <td>0.184210</td>\n",
       "    </tr>\n",
       "    <tr>\n",
       "      <th>Testing XGBoost</th>\n",
       "      <td>29072.745965</td>\n",
       "      <td>0.176594</td>\n",
       "    </tr>\n",
       "  </tbody>\n",
       "</table>\n",
       "</div>"
      ],
      "text/plain": [
       "                                          MAE      MAPE\n",
       "Testing Linear Regression        42086.464186  0.262159\n",
       "Testing KNN                      35686.775164  0.209156\n",
       "Testing Decision Tree Regressor  41444.380665  0.250883\n",
       "Testing RandomForest             29916.280343  0.184210\n",
       "Testing XGBoost                  29072.745965  0.176594"
      ]
     },
     "execution_count": 42,
     "metadata": {},
     "output_type": "execute_result"
    }
   ],
   "source": [
    "## Melakukan testing pada base model\n",
    "models = {\n",
    "    'Testing Linear Regression': LinearRegression(),\n",
    "    'Testing KNN': KNeighborsRegressor(),\n",
    "    'Testing Decision Tree Regressor': DecisionTreeRegressor(random_state=42),\n",
    "    'Testing RandomForest': RandomForestRegressor(random_state=42),\n",
    "    'Testing XGBoost': XGBRegressor(random_state=42)\n",
    "}\n",
    "\n",
    "score_mae = []\n",
    "score_mape = []\n",
    "\n",
    "## Melakukan prediksi pada test set\n",
    "for i in models:\n",
    "\n",
    "    model = Pipeline([\n",
    "        ('preprocessing', transformer),\n",
    "        ('model', models[i])\n",
    "        ])\n",
    "\n",
    "    model.fit(X_train, y_train)\n",
    "    y_pred = model.predict(X_test)\n",
    "    score_mae.append(mean_absolute_error(y_test, y_pred))\n",
    "    score_mape.append(mean_absolute_percentage_error(y_test, y_pred))\n",
    "\n",
    "score_before_tuning = pd.DataFrame({'MAE': score_mae, 'MAPE': score_mape}, index=models.keys())\n",
    "\n",
    "## Evaluasi hasil dari 5 kandidat algoritma testing\n",
    "print('Hasil Test Set (MAE dalam bentuk US Dollar, MAPE dalam bentuk persentase): ')\n",
    "score_before_tuning"
   ]
  },
  {
   "cell_type": "markdown",
   "metadata": {},
   "source": [
    "**Hasil Based Model** : Saat dilakukan prediksi pada testing, performa XGBoost memiliki MAE dan MAPE yang paling kecil sehingga memiliki kedekatan pada akurasi jika nilainya semakin kecil atau mendekati 0. XGBoost dipilih sebagai model akhir dan untuk meningkatkan performanya, untuk meningkatkan perfoma model XGB maka akan dilakukan  hyperparameter tuning pada model XGBoost."
   ]
  },
  {
   "cell_type": "markdown",
   "metadata": {},
   "source": [
    "#### **Hyperparameter tuning** yang digunakan :\n",
    "#\n",
    "- **max_depth** = merupakan kedalaman maksimum pohon, ini digunakan untuk mengontrol over-fitting karena kedalaman yang lebih tinggi akan memungkinkan model untuk mempelajari hubungan yang sangat spesifik untuk sampel tertentu.\n",
    "- **learning_rate** = Hal ini analog dengan kecepatan belajar di GBM, penyusutan ukuran langkah yang digunakan dalam pembaruan untuk mencegah overfitting.\n",
    "- **n_estimators** = Jumlah pohon yang ingin bangun sebelum mengambil voting maksimum atau rata-rata prediksi. Jumlah pohon yang lebih tinggi memberi kinerja yang lebih baik tetapi membuat running laptop sedikit lama.\n",
    "- **subsample** = Jumlah baris tiap pohon\n",
    "- **gamma** = Node dipecah hanya ketika hasil split memberikan pengurangan nilai positif,semakin besar nilainya, semakin konservatif/simpel modelnya\n",
    "- **colsample_bytree** = Jumlah feature subsampel kolom saat membangun setiap pohon. Subsampling terjadi sekali untuk setiap pohon yang dibangun\n",
    "- **reg_alpha** = Digunakan dalam kasus dimensi yang sangat tinggi sehingga algoritma berjalan lebih cepat saat diimplementasikan.\n",
    "Peningkatan nilai ini akan membuat model lebih konservatif."
   ]
  },
  {
   "cell_type": "code",
   "execution_count": 43,
   "metadata": {},
   "outputs": [],
   "source": [
    "## Kedalaman pohon\n",
    "max_depth = list(np.arange(1, 11)) ## 1-10\n",
    "\n",
    "## Learning rate\n",
    "learning_rate = list(np.arange(1, 100)/100)\n",
    "\n",
    "## Jumlah pohon\n",
    "n_estimators = list(np.arange(100, 201))\n",
    "\n",
    "## Jumlah baris tiap pohon (% dari total baris train set)\n",
    "subsample = list(np.arange(2, 10)/10)\n",
    "\n",
    "## Gamma (min_impurity_decrease)\n",
    "gamma = list(np.arange(1, 11))\n",
    "\n",
    "## Jumlah feature yang digunakan untuk tiap pohon (% dari total kolom train set)\n",
    "colsample_bytree = list(np.arange(1, 10)/10)\n",
    "\n",
    "## Alpha (regularization)\n",
    "reg_alpha = list(np.logspace(-3, 1, 10))\n",
    "\n",
    "\n",
    "## Hyperparam space XGboost\n",
    "hyperparam_space_xgb = {\n",
    "    'model__max_depth': max_depth, \n",
    "    'model__learning_rate': learning_rate,\n",
    "    'model__n_estimators': n_estimators,\n",
    "    'model__subsample': subsample,\n",
    "    'model__gamma': gamma,\n",
    "    'model__colsample_bytree': colsample_bytree,\n",
    "    'model__reg_alpha': reg_alpha\n",
    "}"
   ]
  },
  {
   "cell_type": "markdown",
   "metadata": {},
   "source": [
    "- **Model XGB Tuning**"
   ]
  },
  {
   "cell_type": "markdown",
   "metadata": {},
   "source": [
    "Dalam melakukan tuning, disini menggunakan **RandomizedSearchCV** karena pada hyperparameter xgb saya banyak menggunakan model parameternya sehingga randomized search digunakan untuk melakukan komputasi lebih efisien."
   ]
  },
  {
   "cell_type": "code",
   "execution_count": 44,
   "metadata": {},
   "outputs": [],
   "source": [
    "## Benchmark model dengan hyperparameter tuning yang dipilih : \n",
    "xgb = XGBRegressor(random_state=42, verbosity=0)\n",
    "## verbosity = 0 artinya tidak menampilkan informasi progress hyperparameter tuning yang di running oleh program saat di train_test_split\n",
    "## verbosity = 1 artinya  menampilkan informasi progress hyperparameter tuning (seperti epoch berapa, step berapa) yang di running oleh program saat di train_test_split\n",
    "## verbosity = 2 artinya  menampilkan informasi progress hyperparameter tuning (1/64 Epoch) yang di running oleh program saat di train_test_split\n",
    "\n",
    "\n",
    "## Membuat algorithm chains\n",
    "estimator_xgb = Pipeline([\n",
    "        ('preprocessing', transformer),\n",
    "        ('model', xgb)\n",
    "        ])\n",
    "\n",
    "crossval = KFold(n_splits=5, shuffle=True, random_state=42) ## n_split 5 kombinasi, #shuffle untuk mengacak -> dibagi 5 berdasarkan n_splits\n",
    "\n",
    "## Hyperparameter tuning\n",
    "hyperparameter_tuning_xgb = RandomizedSearchCV(\n",
    "    estimator_xgb,\n",
    "    param_distributions = hyperparam_space_xgb,\n",
    "    n_iter = 50, \n",
    "    cv = crossval, \n",
    "    scoring = ['neg_mean_absolute_error', 'neg_mean_absolute_percentage_error'], \n",
    "    n_jobs = -1,\n",
    "    refit = 'neg_mean_absolute_percentage_error',\n",
    "    random_state = 42\n",
    ")"
   ]
  },
  {
   "cell_type": "code",
   "execution_count": 45,
   "metadata": {},
   "outputs": [
    {
     "data": {
      "text/html": [
       "<style>#sk-container-id-1 {color: black;background-color: white;}#sk-container-id-1 pre{padding: 0;}#sk-container-id-1 div.sk-toggleable {background-color: white;}#sk-container-id-1 label.sk-toggleable__label {cursor: pointer;display: block;width: 100%;margin-bottom: 0;padding: 0.3em;box-sizing: border-box;text-align: center;}#sk-container-id-1 label.sk-toggleable__label-arrow:before {content: \"▸\";float: left;margin-right: 0.25em;color: #696969;}#sk-container-id-1 label.sk-toggleable__label-arrow:hover:before {color: black;}#sk-container-id-1 div.sk-estimator:hover label.sk-toggleable__label-arrow:before {color: black;}#sk-container-id-1 div.sk-toggleable__content {max-height: 0;max-width: 0;overflow: hidden;text-align: left;background-color: #f0f8ff;}#sk-container-id-1 div.sk-toggleable__content pre {margin: 0.2em;color: black;border-radius: 0.25em;background-color: #f0f8ff;}#sk-container-id-1 input.sk-toggleable__control:checked~div.sk-toggleable__content {max-height: 200px;max-width: 100%;overflow: auto;}#sk-container-id-1 input.sk-toggleable__control:checked~label.sk-toggleable__label-arrow:before {content: \"▾\";}#sk-container-id-1 div.sk-estimator input.sk-toggleable__control:checked~label.sk-toggleable__label {background-color: #d4ebff;}#sk-container-id-1 div.sk-label input.sk-toggleable__control:checked~label.sk-toggleable__label {background-color: #d4ebff;}#sk-container-id-1 input.sk-hidden--visually {border: 0;clip: rect(1px 1px 1px 1px);clip: rect(1px, 1px, 1px, 1px);height: 1px;margin: -1px;overflow: hidden;padding: 0;position: absolute;width: 1px;}#sk-container-id-1 div.sk-estimator {font-family: monospace;background-color: #f0f8ff;border: 1px dotted black;border-radius: 0.25em;box-sizing: border-box;margin-bottom: 0.5em;}#sk-container-id-1 div.sk-estimator:hover {background-color: #d4ebff;}#sk-container-id-1 div.sk-parallel-item::after {content: \"\";width: 100%;border-bottom: 1px solid gray;flex-grow: 1;}#sk-container-id-1 div.sk-label:hover label.sk-toggleable__label {background-color: #d4ebff;}#sk-container-id-1 div.sk-serial::before {content: \"\";position: absolute;border-left: 1px solid gray;box-sizing: border-box;top: 0;bottom: 0;left: 50%;z-index: 0;}#sk-container-id-1 div.sk-serial {display: flex;flex-direction: column;align-items: center;background-color: white;padding-right: 0.2em;padding-left: 0.2em;position: relative;}#sk-container-id-1 div.sk-item {position: relative;z-index: 1;}#sk-container-id-1 div.sk-parallel {display: flex;align-items: stretch;justify-content: center;background-color: white;position: relative;}#sk-container-id-1 div.sk-item::before, #sk-container-id-1 div.sk-parallel-item::before {content: \"\";position: absolute;border-left: 1px solid gray;box-sizing: border-box;top: 0;bottom: 0;left: 50%;z-index: -1;}#sk-container-id-1 div.sk-parallel-item {display: flex;flex-direction: column;z-index: 1;position: relative;background-color: white;}#sk-container-id-1 div.sk-parallel-item:first-child::after {align-self: flex-end;width: 50%;}#sk-container-id-1 div.sk-parallel-item:last-child::after {align-self: flex-start;width: 50%;}#sk-container-id-1 div.sk-parallel-item:only-child::after {width: 0;}#sk-container-id-1 div.sk-dashed-wrapped {border: 1px dashed gray;margin: 0 0.4em 0.5em 0.4em;box-sizing: border-box;padding-bottom: 0.4em;background-color: white;}#sk-container-id-1 div.sk-label label {font-family: monospace;font-weight: bold;display: inline-block;line-height: 1.2em;}#sk-container-id-1 div.sk-label-container {text-align: center;}#sk-container-id-1 div.sk-container {/* jupyter's `normalize.less` sets `[hidden] { display: none; }` but bootstrap.min.css set `[hidden] { display: none !important; }` so we also need the `!important` here to be able to override the default hidden behavior on the sphinx rendered scikit-learn.org. See: https://github.com/scikit-learn/scikit-learn/issues/21755 */display: inline-block !important;position: relative;}#sk-container-id-1 div.sk-text-repr-fallback {display: none;}</style><div id=\"sk-container-id-1\" class=\"sk-top-container\"><div class=\"sk-text-repr-fallback\"><pre>RandomizedSearchCV(cv=KFold(n_splits=5, random_state=42, shuffle=True),\n",
       "                   estimator=Pipeline(steps=[(&#x27;preprocessing&#x27;,\n",
       "                                              ColumnTransformer(remainder=&#x27;passthrough&#x27;,\n",
       "                                                                transformers=[(&#x27;transformation_categorical&#x27;,\n",
       "                                                                               Pipeline(steps=[(&#x27;encoding_onehotencoding&#x27;,\n",
       "                                                                                                OneHotEncoder(drop=&#x27;first&#x27;,\n",
       "                                                                                                              handle_unknown=&#x27;ignore&#x27;))]),\n",
       "                                                                               [&#x27;ocean_proximity&#x27;]),\n",
       "                                                                              (&#x27;transformation_numerical&#x27;,\n",
       "                                                                               Pipel...\n",
       "                                                             0.0027825594022071257,\n",
       "                                                             0.007742636826811269,\n",
       "                                                             0.021544346900318832,\n",
       "                                                             0.05994842503189409,\n",
       "                                                             0.1668100537200059,\n",
       "                                                             0.46415888336127775,\n",
       "                                                             1.2915496650148828,\n",
       "                                                             3.593813663804626,\n",
       "                                                             10.0],\n",
       "                                        &#x27;model__subsample&#x27;: [0.2, 0.3, 0.4, 0.5,\n",
       "                                                             0.6, 0.7, 0.8,\n",
       "                                                             0.9]},\n",
       "                   random_state=42, refit=&#x27;neg_mean_absolute_percentage_error&#x27;,\n",
       "                   scoring=[&#x27;neg_mean_absolute_error&#x27;,\n",
       "                            &#x27;neg_mean_absolute_percentage_error&#x27;])</pre><b>In a Jupyter environment, please rerun this cell to show the HTML representation or trust the notebook. <br />On GitHub, the HTML representation is unable to render, please try loading this page with nbviewer.org.</b></div><div class=\"sk-container\" hidden><div class=\"sk-item sk-dashed-wrapped\"><div class=\"sk-label-container\"><div class=\"sk-label sk-toggleable\"><input class=\"sk-toggleable__control sk-hidden--visually\" id=\"sk-estimator-id-1\" type=\"checkbox\" ><label for=\"sk-estimator-id-1\" class=\"sk-toggleable__label sk-toggleable__label-arrow\">RandomizedSearchCV</label><div class=\"sk-toggleable__content\"><pre>RandomizedSearchCV(cv=KFold(n_splits=5, random_state=42, shuffle=True),\n",
       "                   estimator=Pipeline(steps=[(&#x27;preprocessing&#x27;,\n",
       "                                              ColumnTransformer(remainder=&#x27;passthrough&#x27;,\n",
       "                                                                transformers=[(&#x27;transformation_categorical&#x27;,\n",
       "                                                                               Pipeline(steps=[(&#x27;encoding_onehotencoding&#x27;,\n",
       "                                                                                                OneHotEncoder(drop=&#x27;first&#x27;,\n",
       "                                                                                                              handle_unknown=&#x27;ignore&#x27;))]),\n",
       "                                                                               [&#x27;ocean_proximity&#x27;]),\n",
       "                                                                              (&#x27;transformation_numerical&#x27;,\n",
       "                                                                               Pipel...\n",
       "                                                             0.0027825594022071257,\n",
       "                                                             0.007742636826811269,\n",
       "                                                             0.021544346900318832,\n",
       "                                                             0.05994842503189409,\n",
       "                                                             0.1668100537200059,\n",
       "                                                             0.46415888336127775,\n",
       "                                                             1.2915496650148828,\n",
       "                                                             3.593813663804626,\n",
       "                                                             10.0],\n",
       "                                        &#x27;model__subsample&#x27;: [0.2, 0.3, 0.4, 0.5,\n",
       "                                                             0.6, 0.7, 0.8,\n",
       "                                                             0.9]},\n",
       "                   random_state=42, refit=&#x27;neg_mean_absolute_percentage_error&#x27;,\n",
       "                   scoring=[&#x27;neg_mean_absolute_error&#x27;,\n",
       "                            &#x27;neg_mean_absolute_percentage_error&#x27;])</pre></div></div></div><div class=\"sk-parallel\"><div class=\"sk-parallel-item\"><div class=\"sk-item\"><div class=\"sk-label-container\"><div class=\"sk-label sk-toggleable\"><input class=\"sk-toggleable__control sk-hidden--visually\" id=\"sk-estimator-id-2\" type=\"checkbox\" ><label for=\"sk-estimator-id-2\" class=\"sk-toggleable__label sk-toggleable__label-arrow\">estimator: Pipeline</label><div class=\"sk-toggleable__content\"><pre>Pipeline(steps=[(&#x27;preprocessing&#x27;,\n",
       "                 ColumnTransformer(remainder=&#x27;passthrough&#x27;,\n",
       "                                   transformers=[(&#x27;transformation_categorical&#x27;,\n",
       "                                                  Pipeline(steps=[(&#x27;encoding_onehotencoding&#x27;,\n",
       "                                                                   OneHotEncoder(drop=&#x27;first&#x27;,\n",
       "                                                                                 handle_unknown=&#x27;ignore&#x27;))]),\n",
       "                                                  [&#x27;ocean_proximity&#x27;]),\n",
       "                                                 (&#x27;transformation_numerical&#x27;,\n",
       "                                                  Pipeline(steps=[(&#x27;scaling&#x27;,\n",
       "                                                                   StandardScaler(with_mean=False))]),\n",
       "                                                  [&#x27;housing_median_age&#x27;,...\n",
       "                              gamma=None, gpu_id=None, grow_policy=None,\n",
       "                              importance_type=None,\n",
       "                              interaction_constraints=None, learning_rate=None,\n",
       "                              max_bin=None, max_cat_to_onehot=None,\n",
       "                              max_delta_step=None, max_depth=None,\n",
       "                              max_leaves=None, min_child_weight=None,\n",
       "                              missing=nan, monotone_constraints=None,\n",
       "                              n_estimators=100, n_jobs=None,\n",
       "                              num_parallel_tree=None, predictor=None,\n",
       "                              random_state=42, reg_alpha=None, reg_lambda=None, ...))])</pre></div></div></div><div class=\"sk-serial\"><div class=\"sk-item\"><div class=\"sk-serial\"><div class=\"sk-item sk-dashed-wrapped\"><div class=\"sk-label-container\"><div class=\"sk-label sk-toggleable\"><input class=\"sk-toggleable__control sk-hidden--visually\" id=\"sk-estimator-id-3\" type=\"checkbox\" ><label for=\"sk-estimator-id-3\" class=\"sk-toggleable__label sk-toggleable__label-arrow\">preprocessing: ColumnTransformer</label><div class=\"sk-toggleable__content\"><pre>ColumnTransformer(remainder=&#x27;passthrough&#x27;,\n",
       "                  transformers=[(&#x27;transformation_categorical&#x27;,\n",
       "                                 Pipeline(steps=[(&#x27;encoding_onehotencoding&#x27;,\n",
       "                                                  OneHotEncoder(drop=&#x27;first&#x27;,\n",
       "                                                                handle_unknown=&#x27;ignore&#x27;))]),\n",
       "                                 [&#x27;ocean_proximity&#x27;]),\n",
       "                                (&#x27;transformation_numerical&#x27;,\n",
       "                                 Pipeline(steps=[(&#x27;scaling&#x27;,\n",
       "                                                  StandardScaler(with_mean=False))]),\n",
       "                                 [&#x27;housing_median_age&#x27;, &#x27;total_rooms&#x27;,\n",
       "                                  &#x27;total_bedrooms&#x27;, &#x27;population&#x27;, &#x27;households&#x27;,\n",
       "                                  &#x27;median_income&#x27;])])</pre></div></div></div><div class=\"sk-parallel\"><div class=\"sk-parallel-item\"><div class=\"sk-item\"><div class=\"sk-label-container\"><div class=\"sk-label sk-toggleable\"><input class=\"sk-toggleable__control sk-hidden--visually\" id=\"sk-estimator-id-4\" type=\"checkbox\" ><label for=\"sk-estimator-id-4\" class=\"sk-toggleable__label sk-toggleable__label-arrow\">transformation_categorical</label><div class=\"sk-toggleable__content\"><pre>[&#x27;ocean_proximity&#x27;]</pre></div></div></div><div class=\"sk-serial\"><div class=\"sk-item\"><div class=\"sk-serial\"><div class=\"sk-item\"><div class=\"sk-estimator sk-toggleable\"><input class=\"sk-toggleable__control sk-hidden--visually\" id=\"sk-estimator-id-5\" type=\"checkbox\" ><label for=\"sk-estimator-id-5\" class=\"sk-toggleable__label sk-toggleable__label-arrow\">OneHotEncoder</label><div class=\"sk-toggleable__content\"><pre>OneHotEncoder(drop=&#x27;first&#x27;, handle_unknown=&#x27;ignore&#x27;)</pre></div></div></div></div></div></div></div></div><div class=\"sk-parallel-item\"><div class=\"sk-item\"><div class=\"sk-label-container\"><div class=\"sk-label sk-toggleable\"><input class=\"sk-toggleable__control sk-hidden--visually\" id=\"sk-estimator-id-6\" type=\"checkbox\" ><label for=\"sk-estimator-id-6\" class=\"sk-toggleable__label sk-toggleable__label-arrow\">transformation_numerical</label><div class=\"sk-toggleable__content\"><pre>[&#x27;housing_median_age&#x27;, &#x27;total_rooms&#x27;, &#x27;total_bedrooms&#x27;, &#x27;population&#x27;, &#x27;households&#x27;, &#x27;median_income&#x27;]</pre></div></div></div><div class=\"sk-serial\"><div class=\"sk-item\"><div class=\"sk-serial\"><div class=\"sk-item\"><div class=\"sk-estimator sk-toggleable\"><input class=\"sk-toggleable__control sk-hidden--visually\" id=\"sk-estimator-id-7\" type=\"checkbox\" ><label for=\"sk-estimator-id-7\" class=\"sk-toggleable__label sk-toggleable__label-arrow\">StandardScaler</label><div class=\"sk-toggleable__content\"><pre>StandardScaler(with_mean=False)</pre></div></div></div></div></div></div></div></div><div class=\"sk-parallel-item\"><div class=\"sk-item\"><div class=\"sk-label-container\"><div class=\"sk-label sk-toggleable\"><input class=\"sk-toggleable__control sk-hidden--visually\" id=\"sk-estimator-id-8\" type=\"checkbox\" ><label for=\"sk-estimator-id-8\" class=\"sk-toggleable__label sk-toggleable__label-arrow\">remainder</label><div class=\"sk-toggleable__content\"><pre>[&#x27;longitude&#x27;, &#x27;latitude&#x27;]</pre></div></div></div><div class=\"sk-serial\"><div class=\"sk-item\"><div class=\"sk-estimator sk-toggleable\"><input class=\"sk-toggleable__control sk-hidden--visually\" id=\"sk-estimator-id-9\" type=\"checkbox\" ><label for=\"sk-estimator-id-9\" class=\"sk-toggleable__label sk-toggleable__label-arrow\">passthrough</label><div class=\"sk-toggleable__content\"><pre>passthrough</pre></div></div></div></div></div></div></div></div><div class=\"sk-item\"><div class=\"sk-estimator sk-toggleable\"><input class=\"sk-toggleable__control sk-hidden--visually\" id=\"sk-estimator-id-10\" type=\"checkbox\" ><label for=\"sk-estimator-id-10\" class=\"sk-toggleable__label sk-toggleable__label-arrow\">XGBRegressor</label><div class=\"sk-toggleable__content\"><pre>XGBRegressor(base_score=None, booster=None, callbacks=None,\n",
       "             colsample_bylevel=None, colsample_bynode=None,\n",
       "             colsample_bytree=None, early_stopping_rounds=None,\n",
       "             enable_categorical=False, eval_metric=None, gamma=None,\n",
       "             gpu_id=None, grow_policy=None, importance_type=None,\n",
       "             interaction_constraints=None, learning_rate=None, max_bin=None,\n",
       "             max_cat_to_onehot=None, max_delta_step=None, max_depth=None,\n",
       "             max_leaves=None, min_child_weight=None, missing=nan,\n",
       "             monotone_constraints=None, n_estimators=100, n_jobs=None,\n",
       "             num_parallel_tree=None, predictor=None, random_state=42,\n",
       "             reg_alpha=None, reg_lambda=None, ...)</pre></div></div></div></div></div></div></div></div></div></div></div></div>"
      ],
      "text/plain": [
       "RandomizedSearchCV(cv=KFold(n_splits=5, random_state=42, shuffle=True),\n",
       "                   estimator=Pipeline(steps=[('preprocessing',\n",
       "                                              ColumnTransformer(remainder='passthrough',\n",
       "                                                                transformers=[('transformation_categorical',\n",
       "                                                                               Pipeline(steps=[('encoding_onehotencoding',\n",
       "                                                                                                OneHotEncoder(drop='first',\n",
       "                                                                                                              handle_unknown='ignore'))]),\n",
       "                                                                               ['ocean_proximity']),\n",
       "                                                                              ('transformation_numerical',\n",
       "                                                                               Pipel...\n",
       "                                                             0.0027825594022071257,\n",
       "                                                             0.007742636826811269,\n",
       "                                                             0.021544346900318832,\n",
       "                                                             0.05994842503189409,\n",
       "                                                             0.1668100537200059,\n",
       "                                                             0.46415888336127775,\n",
       "                                                             1.2915496650148828,\n",
       "                                                             3.593813663804626,\n",
       "                                                             10.0],\n",
       "                                        'model__subsample': [0.2, 0.3, 0.4, 0.5,\n",
       "                                                             0.6, 0.7, 0.8,\n",
       "                                                             0.9]},\n",
       "                   random_state=42, refit='neg_mean_absolute_percentage_error',\n",
       "                   scoring=['neg_mean_absolute_error',\n",
       "                            'neg_mean_absolute_percentage_error'])"
      ]
     },
     "execution_count": 45,
     "metadata": {},
     "output_type": "execute_result"
    }
   ],
   "source": [
    "## Fitting data training untuk mencari parameter terbaik\n",
    "hyperparameter_tuning_xgb.fit(X_train, y_train)"
   ]
  },
  {
   "cell_type": "code",
   "execution_count": 46,
   "metadata": {},
   "outputs": [
    {
     "data": {
      "text/html": [
       "<div>\n",
       "<style scoped>\n",
       "    .dataframe tbody tr th:only-of-type {\n",
       "        vertical-align: middle;\n",
       "    }\n",
       "\n",
       "    .dataframe tbody tr th {\n",
       "        vertical-align: top;\n",
       "    }\n",
       "\n",
       "    .dataframe thead th {\n",
       "        text-align: right;\n",
       "    }\n",
       "</style>\n",
       "<table border=\"1\" class=\"dataframe\">\n",
       "  <thead>\n",
       "    <tr style=\"text-align: right;\">\n",
       "      <th></th>\n",
       "      <th>mean_fit_time</th>\n",
       "      <th>std_fit_time</th>\n",
       "      <th>mean_score_time</th>\n",
       "      <th>std_score_time</th>\n",
       "      <th>param_model__subsample</th>\n",
       "      <th>param_model__reg_alpha</th>\n",
       "      <th>param_model__n_estimators</th>\n",
       "      <th>param_model__max_depth</th>\n",
       "      <th>param_model__learning_rate</th>\n",
       "      <th>param_model__gamma</th>\n",
       "      <th>...</th>\n",
       "      <th>std_test_neg_mean_absolute_error</th>\n",
       "      <th>rank_test_neg_mean_absolute_error</th>\n",
       "      <th>split0_test_neg_mean_absolute_percentage_error</th>\n",
       "      <th>split1_test_neg_mean_absolute_percentage_error</th>\n",
       "      <th>split2_test_neg_mean_absolute_percentage_error</th>\n",
       "      <th>split3_test_neg_mean_absolute_percentage_error</th>\n",
       "      <th>split4_test_neg_mean_absolute_percentage_error</th>\n",
       "      <th>mean_test_neg_mean_absolute_percentage_error</th>\n",
       "      <th>std_test_neg_mean_absolute_percentage_error</th>\n",
       "      <th>rank_test_neg_mean_absolute_percentage_error</th>\n",
       "    </tr>\n",
       "  </thead>\n",
       "  <tbody>\n",
       "    <tr>\n",
       "      <th>39</th>\n",
       "      <td>6.036276</td>\n",
       "      <td>0.190407</td>\n",
       "      <td>0.065735</td>\n",
       "      <td>0.010139</td>\n",
       "      <td>0.6</td>\n",
       "      <td>0.059948</td>\n",
       "      <td>141</td>\n",
       "      <td>10</td>\n",
       "      <td>0.03</td>\n",
       "      <td>10</td>\n",
       "      <td>...</td>\n",
       "      <td>583.814848</td>\n",
       "      <td>1</td>\n",
       "      <td>-0.169730</td>\n",
       "      <td>-0.175257</td>\n",
       "      <td>-0.169431</td>\n",
       "      <td>-0.164499</td>\n",
       "      <td>-0.171658</td>\n",
       "      <td>-0.170115</td>\n",
       "      <td>0.003492</td>\n",
       "      <td>1</td>\n",
       "    </tr>\n",
       "    <tr>\n",
       "      <th>26</th>\n",
       "      <td>2.619249</td>\n",
       "      <td>0.167941</td>\n",
       "      <td>0.030626</td>\n",
       "      <td>0.002357</td>\n",
       "      <td>0.4</td>\n",
       "      <td>1.29155</td>\n",
       "      <td>100</td>\n",
       "      <td>7</td>\n",
       "      <td>0.06</td>\n",
       "      <td>1</td>\n",
       "      <td>...</td>\n",
       "      <td>608.790398</td>\n",
       "      <td>2</td>\n",
       "      <td>-0.184299</td>\n",
       "      <td>-0.185955</td>\n",
       "      <td>-0.184361</td>\n",
       "      <td>-0.180058</td>\n",
       "      <td>-0.183347</td>\n",
       "      <td>-0.183604</td>\n",
       "      <td>0.001961</td>\n",
       "      <td>2</td>\n",
       "    </tr>\n",
       "    <tr>\n",
       "      <th>18</th>\n",
       "      <td>4.591792</td>\n",
       "      <td>0.099226</td>\n",
       "      <td>0.055264</td>\n",
       "      <td>0.004798</td>\n",
       "      <td>0.2</td>\n",
       "      <td>0.059948</td>\n",
       "      <td>193</td>\n",
       "      <td>8</td>\n",
       "      <td>0.08</td>\n",
       "      <td>4</td>\n",
       "      <td>...</td>\n",
       "      <td>689.293626</td>\n",
       "      <td>3</td>\n",
       "      <td>-0.190361</td>\n",
       "      <td>-0.189832</td>\n",
       "      <td>-0.185042</td>\n",
       "      <td>-0.179308</td>\n",
       "      <td>-0.188392</td>\n",
       "      <td>-0.186587</td>\n",
       "      <td>0.004084</td>\n",
       "      <td>4</td>\n",
       "    </tr>\n",
       "    <tr>\n",
       "      <th>9</th>\n",
       "      <td>3.634995</td>\n",
       "      <td>0.120673</td>\n",
       "      <td>0.064050</td>\n",
       "      <td>0.007218</td>\n",
       "      <td>0.9</td>\n",
       "      <td>0.059948</td>\n",
       "      <td>105</td>\n",
       "      <td>5</td>\n",
       "      <td>0.38</td>\n",
       "      <td>3</td>\n",
       "      <td>...</td>\n",
       "      <td>490.409961</td>\n",
       "      <td>4</td>\n",
       "      <td>-0.181877</td>\n",
       "      <td>-0.193723</td>\n",
       "      <td>-0.186652</td>\n",
       "      <td>-0.182176</td>\n",
       "      <td>-0.185763</td>\n",
       "      <td>-0.186038</td>\n",
       "      <td>0.004283</td>\n",
       "      <td>3</td>\n",
       "    </tr>\n",
       "    <tr>\n",
       "      <th>31</th>\n",
       "      <td>2.439100</td>\n",
       "      <td>0.042130</td>\n",
       "      <td>0.031417</td>\n",
       "      <td>0.003054</td>\n",
       "      <td>0.9</td>\n",
       "      <td>10.0</td>\n",
       "      <td>176</td>\n",
       "      <td>3</td>\n",
       "      <td>0.48</td>\n",
       "      <td>3</td>\n",
       "      <td>...</td>\n",
       "      <td>683.736426</td>\n",
       "      <td>5</td>\n",
       "      <td>-0.196758</td>\n",
       "      <td>-0.195420</td>\n",
       "      <td>-0.191829</td>\n",
       "      <td>-0.184919</td>\n",
       "      <td>-0.191172</td>\n",
       "      <td>-0.192020</td>\n",
       "      <td>0.004128</td>\n",
       "      <td>6</td>\n",
       "    </tr>\n",
       "  </tbody>\n",
       "</table>\n",
       "<p>5 rows × 28 columns</p>\n",
       "</div>"
      ],
      "text/plain": [
       "    mean_fit_time  std_fit_time  mean_score_time  std_score_time  \\\n",
       "39       6.036276      0.190407         0.065735        0.010139   \n",
       "26       2.619249      0.167941         0.030626        0.002357   \n",
       "18       4.591792      0.099226         0.055264        0.004798   \n",
       "9        3.634995      0.120673         0.064050        0.007218   \n",
       "31       2.439100      0.042130         0.031417        0.003054   \n",
       "\n",
       "   param_model__subsample param_model__reg_alpha param_model__n_estimators  \\\n",
       "39                    0.6               0.059948                       141   \n",
       "26                    0.4                1.29155                       100   \n",
       "18                    0.2               0.059948                       193   \n",
       "9                     0.9               0.059948                       105   \n",
       "31                    0.9                   10.0                       176   \n",
       "\n",
       "   param_model__max_depth param_model__learning_rate param_model__gamma  ...  \\\n",
       "39                     10                       0.03                 10  ...   \n",
       "26                      7                       0.06                  1  ...   \n",
       "18                      8                       0.08                  4  ...   \n",
       "9                       5                       0.38                  3  ...   \n",
       "31                      3                       0.48                  3  ...   \n",
       "\n",
       "   std_test_neg_mean_absolute_error rank_test_neg_mean_absolute_error  \\\n",
       "39                       583.814848                                 1   \n",
       "26                       608.790398                                 2   \n",
       "18                       689.293626                                 3   \n",
       "9                        490.409961                                 4   \n",
       "31                       683.736426                                 5   \n",
       "\n",
       "    split0_test_neg_mean_absolute_percentage_error  \\\n",
       "39                                       -0.169730   \n",
       "26                                       -0.184299   \n",
       "18                                       -0.190361   \n",
       "9                                        -0.181877   \n",
       "31                                       -0.196758   \n",
       "\n",
       "    split1_test_neg_mean_absolute_percentage_error  \\\n",
       "39                                       -0.175257   \n",
       "26                                       -0.185955   \n",
       "18                                       -0.189832   \n",
       "9                                        -0.193723   \n",
       "31                                       -0.195420   \n",
       "\n",
       "    split2_test_neg_mean_absolute_percentage_error  \\\n",
       "39                                       -0.169431   \n",
       "26                                       -0.184361   \n",
       "18                                       -0.185042   \n",
       "9                                        -0.186652   \n",
       "31                                       -0.191829   \n",
       "\n",
       "    split3_test_neg_mean_absolute_percentage_error  \\\n",
       "39                                       -0.164499   \n",
       "26                                       -0.180058   \n",
       "18                                       -0.179308   \n",
       "9                                        -0.182176   \n",
       "31                                       -0.184919   \n",
       "\n",
       "    split4_test_neg_mean_absolute_percentage_error  \\\n",
       "39                                       -0.171658   \n",
       "26                                       -0.183347   \n",
       "18                                       -0.188392   \n",
       "9                                        -0.185763   \n",
       "31                                       -0.191172   \n",
       "\n",
       "    mean_test_neg_mean_absolute_percentage_error  \\\n",
       "39                                     -0.170115   \n",
       "26                                     -0.183604   \n",
       "18                                     -0.186587   \n",
       "9                                      -0.186038   \n",
       "31                                     -0.192020   \n",
       "\n",
       "    std_test_neg_mean_absolute_percentage_error  \\\n",
       "39                                     0.003492   \n",
       "26                                     0.001961   \n",
       "18                                     0.004084   \n",
       "9                                      0.004283   \n",
       "31                                     0.004128   \n",
       "\n",
       "    rank_test_neg_mean_absolute_percentage_error  \n",
       "39                                             1  \n",
       "26                                             2  \n",
       "18                                             4  \n",
       "9                                              3  \n",
       "31                                             6  \n",
       "\n",
       "[5 rows x 28 columns]"
      ]
     },
     "execution_count": 46,
     "metadata": {},
     "output_type": "execute_result"
    }
   ],
   "source": [
    "## Melihat hasil tuning dalam bentuk dataframe. Diurutkan berdasarkan MAE\n",
    "hasil_error = pd.DataFrame(hyperparameter_tuning_xgb.cv_results_).sort_values(by=['rank_test_neg_mean_absolute_error', 'rank_test_neg_mean_absolute_percentage_error']).head()\n",
    "hasil_error"
   ]
  },
  {
   "cell_type": "code",
   "execution_count": 47,
   "metadata": {},
   "outputs": [
    {
     "name": "stdout",
     "output_type": "stream",
     "text": [
      "XGBoost\n",
      "Skor Terbaik : -0.1701149182021778\n",
      "Parameter Terbaik : {'model__subsample': 0.6, 'model__reg_alpha': 0.05994842503189409, 'model__n_estimators': 141, 'model__max_depth': 10, 'model__learning_rate': 0.03, 'model__gamma': 10, 'model__colsample_bytree': 0.6}\n"
     ]
    }
   ],
   "source": [
    "## Cek skor terbaik dan params terbaik\n",
    "print('XGBoost')\n",
    "print('Skor Terbaik :', hyperparameter_tuning_xgb.best_score_)\n",
    "print('Parameter Terbaik :', hyperparameter_tuning_xgb.best_params_)"
   ]
  },
  {
   "cell_type": "code",
   "execution_count": 48,
   "metadata": {},
   "outputs": [
    {
     "name": "stdout",
     "output_type": "stream",
     "text": [
      "Nilai MAE Algorimat XGB setelah Tunning : \n"
     ]
    },
    {
     "data": {
      "text/html": [
       "<div>\n",
       "<style scoped>\n",
       "    .dataframe tbody tr th:only-of-type {\n",
       "        vertical-align: middle;\n",
       "    }\n",
       "\n",
       "    .dataframe tbody tr th {\n",
       "        vertical-align: top;\n",
       "    }\n",
       "\n",
       "    .dataframe thead th {\n",
       "        text-align: right;\n",
       "    }\n",
       "</style>\n",
       "<table border=\"1\" class=\"dataframe\">\n",
       "  <thead>\n",
       "    <tr style=\"text-align: right;\">\n",
       "      <th></th>\n",
       "      <th>MAE</th>\n",
       "      <th>MAPE</th>\n",
       "    </tr>\n",
       "  </thead>\n",
       "  <tbody>\n",
       "    <tr>\n",
       "      <th>XGB</th>\n",
       "      <td>28293.015355</td>\n",
       "      <td>0.168612</td>\n",
       "    </tr>\n",
       "  </tbody>\n",
       "</table>\n",
       "</div>"
      ],
      "text/plain": [
       "              MAE      MAPE\n",
       "XGB  28293.015355  0.168612"
      ]
     },
     "execution_count": 48,
     "metadata": {},
     "output_type": "execute_result"
    }
   ],
   "source": [
    "## Menggunakan Model XGBoost\n",
    "model = {'XGB': XGBRegressor(random_state=42)}\n",
    "\n",
    "## Define model terhadap estimator terbaik\n",
    "xgb_tuning = hyperparameter_tuning_xgb.best_estimator_\n",
    "\n",
    "## Fitting model\n",
    "xgb_tuning.fit(X_train, y_train)\n",
    "\n",
    "## Predict test set\n",
    "y_pred_xgb_tuning = xgb_tuning.predict(X_test)\n",
    "\n",
    "## Simpan nilai metrics MAE\n",
    "mae_xgb_tuning = mean_absolute_error(y_test, y_pred_xgb_tuning)\n",
    "\n",
    "## Simpan nilai metrics MAPE\n",
    "mape_xgb_tuning = mean_absolute_percentage_error(y_test, y_pred_xgb_tuning)\n",
    "\n",
    "score_after_tuning = pd.DataFrame({'MAE': mae_xgb_tuning, 'MAPE': mape_xgb_tuning}, index=model.keys())\n",
    "print(\"Nilai MAE Algorimat XGB setelah Tunning : \")\n",
    "score_after_tuning"
   ]
  },
  {
   "cell_type": "code",
   "execution_count": 49,
   "metadata": {},
   "outputs": [
    {
     "name": "stdout",
     "output_type": "stream",
     "text": [
      "TABEL MODEL XGB SEBELUM TUNING : \n"
     ]
    },
    {
     "data": {
      "text/html": [
       "<div>\n",
       "<style scoped>\n",
       "    .dataframe tbody tr th:only-of-type {\n",
       "        vertical-align: middle;\n",
       "    }\n",
       "\n",
       "    .dataframe tbody tr th {\n",
       "        vertical-align: top;\n",
       "    }\n",
       "\n",
       "    .dataframe thead th {\n",
       "        text-align: right;\n",
       "    }\n",
       "</style>\n",
       "<table border=\"1\" class=\"dataframe\">\n",
       "  <thead>\n",
       "    <tr style=\"text-align: right;\">\n",
       "      <th></th>\n",
       "      <th>MAE</th>\n",
       "      <th>MAPE</th>\n",
       "    </tr>\n",
       "  </thead>\n",
       "  <tbody>\n",
       "    <tr>\n",
       "      <th>Testing XGBoost</th>\n",
       "      <td>29072.745965</td>\n",
       "      <td>0.176594</td>\n",
       "    </tr>\n",
       "  </tbody>\n",
       "</table>\n",
       "</div>"
      ],
      "text/plain": [
       "                          MAE      MAPE\n",
       "Testing XGBoost  29072.745965  0.176594"
      ]
     },
     "execution_count": 49,
     "metadata": {},
     "output_type": "execute_result"
    }
   ],
   "source": [
    "## Sebelum hyperparameter tuning\n",
    "print(\"TABEL MODEL XGB SEBELUM TUNING : \")\n",
    "pd.DataFrame(score_before_tuning.loc['Testing XGBoost']).T"
   ]
  },
  {
   "cell_type": "code",
   "execution_count": 50,
   "metadata": {},
   "outputs": [
    {
     "name": "stdout",
     "output_type": "stream",
     "text": [
      "TABEL MODEL XGB SETELAH TUNING : \n"
     ]
    },
    {
     "data": {
      "text/html": [
       "<div>\n",
       "<style scoped>\n",
       "    .dataframe tbody tr th:only-of-type {\n",
       "        vertical-align: middle;\n",
       "    }\n",
       "\n",
       "    .dataframe tbody tr th {\n",
       "        vertical-align: top;\n",
       "    }\n",
       "\n",
       "    .dataframe thead th {\n",
       "        text-align: right;\n",
       "    }\n",
       "</style>\n",
       "<table border=\"1\" class=\"dataframe\">\n",
       "  <thead>\n",
       "    <tr style=\"text-align: right;\">\n",
       "      <th></th>\n",
       "      <th>MAE</th>\n",
       "      <th>MAPE</th>\n",
       "    </tr>\n",
       "  </thead>\n",
       "  <tbody>\n",
       "    <tr>\n",
       "      <th>XGB</th>\n",
       "      <td>28293.015355</td>\n",
       "      <td>0.168612</td>\n",
       "    </tr>\n",
       "  </tbody>\n",
       "</table>\n",
       "</div>"
      ],
      "text/plain": [
       "              MAE      MAPE\n",
       "XGB  28293.015355  0.168612"
      ]
     },
     "execution_count": 50,
     "metadata": {},
     "output_type": "execute_result"
    }
   ],
   "source": [
    "## Setelah hyperparameter tuning\n",
    "print(\"TABEL MODEL XGB SETELAH TUNING : \")\n",
    "score_after_tuning"
   ]
  },
  {
   "cell_type": "code",
   "execution_count": 51,
   "metadata": {},
   "outputs": [
    {
     "data": {
      "image/png": "[encoded data removed]",
      "text/plain": [
       "<Figure size 1008x576 with 1 Axes>"
      ]
     },
     "metadata": {
      "needs_background": "light"
     },
     "output_type": "display_data"
    }
   ],
   "source": [
    "## \n",
    "plt.figure(figsize=(14, 8))\n",
    "plot = sns.scatterplot(x=y_test, y=y_pred_xgb_tuning).set(title='Harga Rumah Aktual vs. Harga Rumah Prediksi', \n",
    "                                               xlabel='Harga Rumah Aktual', \n",
    "                                               ylabel='Harga Rumah Prediksi');"
   ]
  },
  {
   "cell_type": "markdown",
   "metadata": {},
   "source": [
    "Berdasarkan grafik di atas terlihat perbandingan antara harga aktual dengan harga yang di prediksi terlihat membentuk suatu pola yang linear, namun masih terdapat sedikit error yang. Berdasarkan kutipan dari [Website aindhae.com : Terkait kutipan dari Lewis, C. D. (1982). Industrial and business forecasting methods: A practical guide to exponential smoothing and curve fitting](https://www.aindhae.com/2019/12/cara-menghitung-mean-absolute.html#:~:text=Berdasarkan%20Lewis%20(1982)%2C%20nilai,20%2D50%25%20%3D%20wajar), nilai MAPE di interprestasikan atau ditafsirkan kedalam 4 kategori : <10% adalah sangat akurat, 10%-20% adalah baik, 20-50% adalah wajar dan >50% adalah tidak akurat. Jika melihat MAPE dari XGBoost yang sudah dituning adalah 0.168612 (16 %) dan ini masuk dalam kategori baik. Karena semakin kecil nilai MAPE maka semakin kecil kesalahan hasil pradugaan dan ini berlaku sebaliknya semakin besar MAPE maka semakin besar kesalahan hasil praduga. Hasil dari suatu metode pendugaan mempunyai kemampuan peramalan sangat baik jika nilai MAPE < 10% dan mempunyai kemampuan praduga baik jika nilai MAPE diantara 10% - 20%."
   ]
  },
  {
   "cell_type": "markdown",
   "metadata": {},
   "source": [
    "**Feature yang memiliki pengaruh**"
   ]
  },
  {
   "cell_type": "code",
   "execution_count": 52,
   "metadata": {},
   "outputs": [
    {
     "data": {
      "text/plain": [
       "['x0_INLAND',\n",
       " 'x0_ISLAND',\n",
       " 'x0_NEAR BAY',\n",
       " 'x0_NEAR OCEAN',\n",
       " 'housing_median_age',\n",
       " 'total_rooms',\n",
       " 'total_bedrooms',\n",
       " 'population',\n",
       " 'households',\n",
       " 'median_income',\n",
       " 'longitude',\n",
       " 'latitude']"
      ]
     },
     "execution_count": 52,
     "metadata": {},
     "output_type": "execute_result"
    }
   ],
   "source": [
    "## Menggabungkan kembali feature yang tidak masuk dalam pipelilne dengan tujuan untuk melihat pengaruh variabel x ke variabel y\n",
    "features = (list(transformer.transformers_[0][1][0].get_feature_names()) + \n",
    "                transformer.transformers_[1][2] +\n",
    "                ['longitude','latitude'])\n",
    "\n",
    "features"
   ]
  },
  {
   "cell_type": "code",
   "execution_count": 53,
   "metadata": {},
   "outputs": [
    {
     "data": {
      "text/html": [
       "<div>\n",
       "<style scoped>\n",
       "    .dataframe tbody tr th:only-of-type {\n",
       "        vertical-align: middle;\n",
       "    }\n",
       "\n",
       "    .dataframe tbody tr th {\n",
       "        vertical-align: top;\n",
       "    }\n",
       "\n",
       "    .dataframe thead th {\n",
       "        text-align: right;\n",
       "    }\n",
       "</style>\n",
       "<table border=\"1\" class=\"dataframe\">\n",
       "  <thead>\n",
       "    <tr style=\"text-align: right;\">\n",
       "      <th></th>\n",
       "      <th>coef</th>\n",
       "    </tr>\n",
       "  </thead>\n",
       "  <tbody>\n",
       "    <tr>\n",
       "      <th>x0_INLAND</th>\n",
       "      <td>0.644732</td>\n",
       "    </tr>\n",
       "    <tr>\n",
       "      <th>median_income</th>\n",
       "      <td>0.125726</td>\n",
       "    </tr>\n",
       "    <tr>\n",
       "      <th>x0_NEAR OCEAN</th>\n",
       "      <td>0.048913</td>\n",
       "    </tr>\n",
       "    <tr>\n",
       "      <th>longitude</th>\n",
       "      <td>0.047149</td>\n",
       "    </tr>\n",
       "    <tr>\n",
       "      <th>latitude</th>\n",
       "      <td>0.040763</td>\n",
       "    </tr>\n",
       "    <tr>\n",
       "      <th>population</th>\n",
       "      <td>0.019430</td>\n",
       "    </tr>\n",
       "    <tr>\n",
       "      <th>households</th>\n",
       "      <td>0.017356</td>\n",
       "    </tr>\n",
       "    <tr>\n",
       "      <th>x0_NEAR BAY</th>\n",
       "      <td>0.016161</td>\n",
       "    </tr>\n",
       "    <tr>\n",
       "      <th>total_rooms</th>\n",
       "      <td>0.014982</td>\n",
       "    </tr>\n",
       "    <tr>\n",
       "      <th>housing_median_age</th>\n",
       "      <td>0.012554</td>\n",
       "    </tr>\n",
       "    <tr>\n",
       "      <th>total_bedrooms</th>\n",
       "      <td>0.011872</td>\n",
       "    </tr>\n",
       "    <tr>\n",
       "      <th>x0_ISLAND</th>\n",
       "      <td>0.000361</td>\n",
       "    </tr>\n",
       "  </tbody>\n",
       "</table>\n",
       "</div>"
      ],
      "text/plain": [
       "                        coef\n",
       "x0_INLAND           0.644732\n",
       "median_income       0.125726\n",
       "x0_NEAR OCEAN       0.048913\n",
       "longitude           0.047149\n",
       "latitude            0.040763\n",
       "population          0.019430\n",
       "households          0.017356\n",
       "x0_NEAR BAY         0.016161\n",
       "total_rooms         0.014982\n",
       "housing_median_age  0.012554\n",
       "total_bedrooms      0.011872\n",
       "x0_ISLAND           0.000361"
      ]
     },
     "execution_count": 53,
     "metadata": {},
     "output_type": "execute_result"
    }
   ],
   "source": [
    "##  Hasil yang tidak masuk dalam pipeline dimasukan dalam sebuah variabel dan dijadikan data frame\n",
    "feature_importances = pd.DataFrame(data = xgb_tuning[1].feature_importances_, index = features, columns = [\"coef\"])\n",
    "feature_importances.sort_values(by = [\"coef\"], ascending = False, inplace = True)\n",
    "feature_importances"
   ]
  },
  {
   "cell_type": "code",
   "execution_count": 54,
   "metadata": {},
   "outputs": [
    {
     "data": {
      "text/plain": [
       "<AxesSubplot:title={'center':'Feature Importances'}>"
      ]
     },
     "execution_count": 54,
     "metadata": {},
     "output_type": "execute_result"
    },
    {
     "data": {
      "image/png": "[encoded data removed]",
      "text/plain": [
       "<Figure size 1440x720 with 1 Axes>"
      ]
     },
     "metadata": {
      "needs_background": "light"
     },
     "output_type": "display_data"
    }
   ],
   "source": [
    "## Menampilkan kolom yang memiliki pengaruh kuat dengan harga perumahan\n",
    "feature_importances.plot(kind='barh',figsize=(20,10),title='Feature Importances')"
   ]
  },
  {
   "cell_type": "markdown",
   "metadata": {},
   "source": [
    "## Sebelum pakai Machine Learning"
   ]
  },
  {
   "cell_type": "code",
   "execution_count": 55,
   "metadata": {},
   "outputs": [],
   "source": [
    "## Membuat dataframe baru yang bersumber dari dataframe df\n",
    "df_perbandingan = df.copy()"
   ]
  },
  {
   "cell_type": "code",
   "execution_count": 56,
   "metadata": {},
   "outputs": [
    {
     "data": {
      "text/html": [
       "<div>\n",
       "<style scoped>\n",
       "    .dataframe tbody tr th:only-of-type {\n",
       "        vertical-align: middle;\n",
       "    }\n",
       "\n",
       "    .dataframe tbody tr th {\n",
       "        vertical-align: top;\n",
       "    }\n",
       "\n",
       "    .dataframe thead th {\n",
       "        text-align: right;\n",
       "    }\n",
       "</style>\n",
       "<table border=\"1\" class=\"dataframe\">\n",
       "  <thead>\n",
       "    <tr style=\"text-align: right;\">\n",
       "      <th></th>\n",
       "      <th>latitude</th>\n",
       "      <th>longitude</th>\n",
       "      <th>median_house_value</th>\n",
       "    </tr>\n",
       "  </thead>\n",
       "  <tbody>\n",
       "    <tr>\n",
       "      <th>1</th>\n",
       "      <td>37.77</td>\n",
       "      <td>-122.21</td>\n",
       "      <td>100000.0</td>\n",
       "    </tr>\n",
       "    <tr>\n",
       "      <th>2</th>\n",
       "      <td>33.87</td>\n",
       "      <td>-118.04</td>\n",
       "      <td>285800.0</td>\n",
       "    </tr>\n",
       "    <tr>\n",
       "      <th>3</th>\n",
       "      <td>34.06</td>\n",
       "      <td>-118.28</td>\n",
       "      <td>175000.0</td>\n",
       "    </tr>\n",
       "    <tr>\n",
       "      <th>4</th>\n",
       "      <td>36.73</td>\n",
       "      <td>-119.81</td>\n",
       "      <td>59200.0</td>\n",
       "    </tr>\n",
       "    <tr>\n",
       "      <th>5</th>\n",
       "      <td>33.80</td>\n",
       "      <td>-117.79</td>\n",
       "      <td>283200.0</td>\n",
       "    </tr>\n",
       "  </tbody>\n",
       "</table>\n",
       "</div>"
      ],
      "text/plain": [
       "   latitude  longitude  median_house_value\n",
       "1     37.77    -122.21            100000.0\n",
       "2     33.87    -118.04            285800.0\n",
       "3     34.06    -118.28            175000.0\n",
       "4     36.73    -119.81             59200.0\n",
       "5     33.80    -117.79            283200.0"
      ]
     },
     "execution_count": 56,
     "metadata": {},
     "output_type": "execute_result"
    }
   ],
   "source": [
    "## Menampilkan kolom lokasi perumahan dan harga rumah aktual\n",
    "df_perbandingan[['latitude','longitude','median_house_value']].head()"
   ]
  },
  {
   "cell_type": "markdown",
   "metadata": {},
   "source": [
    "## Setelah Pakai Machine Learning"
   ]
  },
  {
   "cell_type": "code",
   "execution_count": 57,
   "metadata": {},
   "outputs": [],
   "source": [
    "## Membuat kolom Harga_Prediksi_Rumah dengan menggunakan data hasil prediksi xgboost tuning\n",
    "df_perbandingan['Harga_Prediksi_Rumah'] = (xgb_tuning.predict(X)).round()"
   ]
  },
  {
   "cell_type": "code",
   "execution_count": 58,
   "metadata": {},
   "outputs": [],
   "source": [
    "## Membuat kolom Selisih_Harga , selisih harga ini antara harga aktual dengan dengan harga prediksi\n",
    "df_perbandingan['Selisih_Harga'] = abs(df_perbandingan['median_house_value']-df_perbandingan['Harga_Prediksi_Rumah'])"
   ]
  },
  {
   "cell_type": "code",
   "execution_count": 59,
   "metadata": {},
   "outputs": [
    {
     "data": {
      "text/html": [
       "<div>\n",
       "<style scoped>\n",
       "    .dataframe tbody tr th:only-of-type {\n",
       "        vertical-align: middle;\n",
       "    }\n",
       "\n",
       "    .dataframe tbody tr th {\n",
       "        vertical-align: top;\n",
       "    }\n",
       "\n",
       "    .dataframe thead th {\n",
       "        text-align: right;\n",
       "    }\n",
       "</style>\n",
       "<table border=\"1\" class=\"dataframe\">\n",
       "  <thead>\n",
       "    <tr style=\"text-align: right;\">\n",
       "      <th></th>\n",
       "      <th>latitude</th>\n",
       "      <th>longitude</th>\n",
       "      <th>median_house_value</th>\n",
       "      <th>Harga_Prediksi_Rumah</th>\n",
       "      <th>Selisih_Harga</th>\n",
       "    </tr>\n",
       "  </thead>\n",
       "  <tbody>\n",
       "    <tr>\n",
       "      <th>1</th>\n",
       "      <td>37.77</td>\n",
       "      <td>-122.21</td>\n",
       "      <td>100000.0</td>\n",
       "      <td>104906.0</td>\n",
       "      <td>4906.0</td>\n",
       "    </tr>\n",
       "    <tr>\n",
       "      <th>2</th>\n",
       "      <td>33.87</td>\n",
       "      <td>-118.04</td>\n",
       "      <td>285800.0</td>\n",
       "      <td>276521.0</td>\n",
       "      <td>9279.0</td>\n",
       "    </tr>\n",
       "    <tr>\n",
       "      <th>3</th>\n",
       "      <td>34.06</td>\n",
       "      <td>-118.28</td>\n",
       "      <td>175000.0</td>\n",
       "      <td>198201.0</td>\n",
       "      <td>23201.0</td>\n",
       "    </tr>\n",
       "    <tr>\n",
       "      <th>4</th>\n",
       "      <td>36.73</td>\n",
       "      <td>-119.81</td>\n",
       "      <td>59200.0</td>\n",
       "      <td>57071.0</td>\n",
       "      <td>2129.0</td>\n",
       "    </tr>\n",
       "    <tr>\n",
       "      <th>5</th>\n",
       "      <td>33.80</td>\n",
       "      <td>-117.79</td>\n",
       "      <td>283200.0</td>\n",
       "      <td>306513.0</td>\n",
       "      <td>23313.0</td>\n",
       "    </tr>\n",
       "  </tbody>\n",
       "</table>\n",
       "</div>"
      ],
      "text/plain": [
       "   latitude  longitude  median_house_value  Harga_Prediksi_Rumah  \\\n",
       "1     37.77    -122.21            100000.0              104906.0   \n",
       "2     33.87    -118.04            285800.0              276521.0   \n",
       "3     34.06    -118.28            175000.0              198201.0   \n",
       "4     36.73    -119.81             59200.0               57071.0   \n",
       "5     33.80    -117.79            283200.0              306513.0   \n",
       "\n",
       "   Selisih_Harga  \n",
       "1         4906.0  \n",
       "2         9279.0  \n",
       "3        23201.0  \n",
       "4         2129.0  \n",
       "5        23313.0  "
      ]
     },
     "execution_count": 59,
     "metadata": {},
     "output_type": "execute_result"
    }
   ],
   "source": [
    "## Menampilkan kolom harga aktual, kolom harga prediksi, kolom selisih harga\n",
    "df_perbandingan[['latitude','longitude','median_house_value','Harga_Prediksi_Rumah','Selisih_Harga']].head()"
   ]
  },
  {
   "cell_type": "code",
   "execution_count": 60,
   "metadata": {},
   "outputs": [
    {
     "data": {
      "text/html": [
       "<div>\n",
       "<style scoped>\n",
       "    .dataframe tbody tr th:only-of-type {\n",
       "        vertical-align: middle;\n",
       "    }\n",
       "\n",
       "    .dataframe tbody tr th {\n",
       "        vertical-align: top;\n",
       "    }\n",
       "\n",
       "    .dataframe thead th {\n",
       "        text-align: right;\n",
       "    }\n",
       "</style>\n",
       "<table border=\"1\" class=\"dataframe\">\n",
       "  <thead>\n",
       "    <tr style=\"text-align: right;\">\n",
       "      <th></th>\n",
       "      <th>median_house_value</th>\n",
       "      <th>Harga_Prediksi_Rumah</th>\n",
       "      <th>Selisih_Harga</th>\n",
       "    </tr>\n",
       "  </thead>\n",
       "  <tbody>\n",
       "    <tr>\n",
       "      <th>1</th>\n",
       "      <td>100000.0</td>\n",
       "      <td>104906.0</td>\n",
       "      <td>4906.0</td>\n",
       "    </tr>\n",
       "    <tr>\n",
       "      <th>2</th>\n",
       "      <td>285800.0</td>\n",
       "      <td>276521.0</td>\n",
       "      <td>9279.0</td>\n",
       "    </tr>\n",
       "  </tbody>\n",
       "</table>\n",
       "</div>"
      ],
      "text/plain": [
       "   median_house_value  Harga_Prediksi_Rumah  Selisih_Harga\n",
       "1            100000.0              104906.0         4906.0\n",
       "2            285800.0              276521.0         9279.0"
      ]
     },
     "execution_count": 60,
     "metadata": {},
     "output_type": "execute_result"
    }
   ],
   "source": [
    "## Membuat variabel baru yang berisikan sampel khusus untuk memperlihatkan perbandingan harga aktual dengan harga prediksi dan selisihnya\n",
    "## Index yang digunakan adalah index paling atas dari data agar memudahkan perbandingan.\n",
    "df_perbandingan_n = df_perbandingan.iloc[:2,9:13]\n",
    "df_perbandingan_n"
   ]
  },
  {
   "cell_type": "markdown",
   "metadata": {},
   "source": [
    "Dari sample perbandingan data dengan harga sebelm prediksi dan harga setelah prediksi terdapat perbedaan. Harga prediksi lebih tinggi, namun perbedaan ini didukung oleh feature feature yang memiliki pengaruh tinggi terhadap target. Disini agent properti dapat menggunakan nilai dari data aktual untuk menentukan harga rumah dapat juga menggunakan harga prediksi, jika menggunakan harga prediksi akan mendapatkan keuntungan lebih dari total selisih dengan harga aktual selain itu semakin tinggi harga yang ditentukan (menggunakan harga prediksi) berdasarkan spesifikasi perumahannya maka semakin besar juga fee yang diterima agent properti. Dalam hal ini spesifikasinya berkaitan dengan feature yang ada pada dataset.\n",
    "\n",
    "- Dari sample perbandingan data di atas, terdapat 2 index dengan nilai prediksi yang naik dan turun. Penjelasan sebagai berikut :\n",
    "    #\n",
    "    - Index 1 **(Case Harga prediksi lebih tinggi)** : Median_house_values bernilai 100000.0 US Dollar, Harga_Prediksi_Rumah bernilai 104906.0 US Dollar dan selisih antara harga aktual dengan harga prediksi 4906.0 US Dollar. Artinya lokasi perumahan yang dijual adalah perumahan di kawasan elit yang penduduknya memiliki median_income yang tinggi dan berlokasi jauh dari laut sehingga harga dari prediksi mengalami kenaikan.\n",
    "    #\n",
    "    - Index 2 **(Case Harga prediksi lebih rendah dari harga aktual)** : Median_house_values bernilai 285800.0 US Dollar, Harga_Prediksi_Rumah bernilai 276521.0 US Dollar dan selisih antara harga aktual dengan harga prediksi 9279.0 US Dollar. Artinya lokasi perumahan yang dijual bukan dikawasan elit yang penduduknya tidak memiliki pendapatan yang tinggi dan berlokasi dekat dengan laut."
   ]
  },
  {
   "cell_type": "markdown",
   "metadata": {},
   "source": [
    "## **KESIMPULAN**"
   ]
  },
  {
   "cell_type": "markdown",
   "metadata": {},
   "source": [
    "1.Berdasarkan 5 based model yang sudah di testing prediksi harga rumah, terdapat model algoritma XGBoost memiliki MAE dan MAPE dengan skor errornya terendah sehingga model algoritma ini dijadikan model akhir dan di tuning untuk memaksimalkan performa. Dari hasil model algoritma XGBoost yang dituning, terdapat juga hasil coefisien yang memiliki pengaruh tinggi pada penentuan harga rumah yaitu ada pada feature median_income dan feature ocean_proximity.\n",
    "<br><br>\n",
    "2. Model machine learning ini memiliki MAE sekitar 28293.0 US Dollar dengan MAPE 0.168612 (16 %), artinya rata rata harga yang meleset berkisar 28293.0 atau sekitar 16 % dari harga aktual. Pada penerapannya jika harga prediksi lebih tinggi dari pada harga aktual atau harga prediksi lebih rendah dari harga aktual dipengaruhi oleh nilai dari feature median_income dan feature ocean_proximity.\n",
    "<br><br>\n",
    "3. Namun machine learning ini memiliki batasan (**project limitation**) yaitu feature housing_median_age yang dapat digunakan maksimal 50 tahun dan harga rumah maximal 462200 US Dollar."
   ]
  },
  {
   "cell_type": "markdown",
   "metadata": {},
   "source": [
    "## **SARAN**"
   ]
  },
  {
   "cell_type": "markdown",
   "metadata": {},
   "source": [
    "Hal-hal yang perlu dilakukan untuk mengembangkan model machine learning ini agar lebih akurat :\n",
    "\n",
    "1. Penambahan feature yang memiliki korelasi langsung dengan harga rumah, misalnya informasi luas tanah, luas bangunan, informasi kondisi bangunan, fasilitas diperkarangan rumah (taman di teras rumah, garasi mobil, tempat menjemur pakaian),fasilitas umum di lingkungan rumah, jarak rumah ke tempat umum (ke tempat transportasi umum, tempat pembelanjaan, tempat ibadah dan rumah sakit), Ukuran kapasitas Watt Listrik dan hal hal yang berkaitan erat dengan fasilitas rumah.\n",
    "<br><br>\n",
    "2. Metode hyperparameter dapat ditingkatkan dengan menggunakan metode gridsearch agar dapat mencoba seluruh kombinasi hyperparameter. Karena jika menggunakan randomized search, tidak semua kombinasi hyperparameter dicoba teteapi kita memilih secara acak dari seluruh kemungkinan kombinasi.\n",
    "<br><br>\n",
    "3. Untuk mendapatkan hasil yang maksimal pada machine learning (**Project Limitation**) tidak disarankan menggunakan data umur perumahan diatas 50 tahun dan maksimal harga rumah diatas 462200 US Dollar karena akan berisiko memiliki error."
   ]
  },
  {
   "cell_type": "markdown",
   "metadata": {},
   "source": [
    "## **MENYIMPAN MODEL**"
   ]
  },
  {
   "cell_type": "code",
   "execution_count": 65,
   "metadata": {},
   "outputs": [],
   "source": [
    "## Package Saving Model\n",
    "import pickle"
   ]
  },
  {
   "cell_type": "code",
   "execution_count": 66,
   "metadata": {},
   "outputs": [],
   "source": [
    "## Saving Model\n",
    "estimator = Pipeline([('preprocess', transformer), ('model', XGBRegressor())])\n",
    "estimator.fit(X_train, y_train)\n",
    "\n",
    "pickle.dump(estimator, open('California-Model-Algo-XGB.sav', 'wb'))"
   ]
  }
 ],
 "metadata": {
  "kernelspec": {
   "display_name": "Python 3.10.4 64-bit",
   "language": "python",
   "name": "python3"
  },
  "language_info": {
   "codemirror_mode": {
    "name": "ipython",
    "version": 3
   },
   "file_extension": ".py",
   "mimetype": "text/x-python",
   "name": "python",
   "nbconvert_exporter": "python",
   "pygments_lexer": "ipython3",
   "version": "3.10.4"
  },
  "orig_nbformat": 4,
  "vscode": {
   "interpreter": {
    "hash": "0d72b21489300652f2337cd7f80c57cc00ce6bbc92cf98d285c178d0a8ced433"
   }
  }
 },
 "nbformat": 4,
 "nbformat_minor": 2
}
